{
 "cells": [
  {
   "cell_type": "code",
   "execution_count": 1,
   "id": "e6f398a3",
   "metadata": {},
   "outputs": [],
   "source": [
    "import pandas as pd\n",
    "import numpy as np\n",
    "pd.options.display.max_columns = 40"
   ]
  },
  {
   "cell_type": "code",
   "execution_count": 2,
   "id": "a4bfe510",
   "metadata": {
    "scrolled": true
   },
   "outputs": [
    {
     "name": "stdout",
     "output_type": "stream",
     "text": [
      "ACC HS Chronic Absenteeism.xlsx\n",
      "ACC HS Graduation Rate.xlsx\n",
      "Annual Regents Exams.xlsx\n",
      "GRAD_RATE_AND_OUTCOMES_2022.csv\n",
      "nys-ann_regents-reduc.csv\n"
     ]
    }
   ],
   "source": [
    "!ls \"raw data\""
   ]
  },
  {
   "cell_type": "code",
   "execution_count": null,
   "id": "3f08529d",
   "metadata": {},
   "outputs": [],
   "source": []
  },
  {
   "cell_type": "markdown",
   "id": "4457cfb9",
   "metadata": {},
   "source": [
    "### Reading in Datasets"
   ]
  },
  {
   "cell_type": "code",
   "execution_count": 3,
   "id": "b1dc2375",
   "metadata": {},
   "outputs": [],
   "source": [
    "nys_absenteeism_df = pd.read_excel(\"raw data/ACC HS Chronic Absenteeism.xlsx\",index_col=False, \n",
    "                                   dtype=({'ENTITY_CD':'string'}))"
   ]
  },
  {
   "cell_type": "code",
   "execution_count": 4,
   "id": "293ca0c8",
   "metadata": {},
   "outputs": [],
   "source": [
    "nys_annual_regents = pd.read_csv(\"raw data/nys-ann_regents-reduc.csv\",index_col=False,\n",
    "                                dtype=({'ENTITY_CD':'string','INSTITUTION_ID':'string'}))"
   ]
  },
  {
   "cell_type": "code",
   "execution_count": 3,
   "id": "1fc4c55d",
   "metadata": {},
   "outputs": [],
   "source": [
    "nys_grad_rate_df = pd.read_excel(\"raw data/ACC HS Graduation Rate.xlsx\",index_col=False,dtype=({'ENTITY_CD':'string'}))"
   ]
  },
  {
   "cell_type": "code",
   "execution_count": null,
   "id": "2c56d171",
   "metadata": {},
   "outputs": [],
   "source": []
  },
  {
   "cell_type": "markdown",
   "id": "d8ed9263",
   "metadata": {},
   "source": [
    "### Filtering & Cleaning Datasets"
   ]
  },
  {
   "cell_type": "code",
   "execution_count": 6,
   "id": "89ebd41e",
   "metadata": {},
   "outputs": [
    {
     "data": {
      "text/plain": [
       "Index(['institution_id', 'entity_cd', 'entity_name', 'year', 'subject',\n",
       "       'subgroup_name', 'tested', 'num_level1', 'per_level1', 'num_level2',\n",
       "       'per_level2', 'num_level3', 'per_level3', 'num_level4', 'per_level4',\n",
       "       'num_level5', 'per_level5', 'num_prof', 'per_prof', 'total_exempt',\n",
       "       'num_exempt_ntest', 'pct_exempt_ntest', 'num_exempt_test',\n",
       "       'pct_exempt_test', 'assmnt_flag'],\n",
       "      dtype='object')"
      ]
     },
     "execution_count": 6,
     "metadata": {},
     "output_type": "execute_result"
    }
   ],
   "source": [
    "# looking at the columns in nys_annual_regents csv \n",
    "nys_annual_regents.columns"
   ]
  },
  {
   "cell_type": "code",
   "execution_count": 7,
   "id": "e85c1ab2",
   "metadata": {},
   "outputs": [],
   "source": [
    "# filtering our dataframe so that we only have records from the 2021-2022 AY\n",
    "# also not including 'All Students' as an aggregate measure\n",
    "nys_annual_regents = nys_annual_regents[(nys_annual_regents.year == 2022) \n",
    "                                        & (nys_annual_regents.subgroup_name != 'All Students')]"
   ]
  },
  {
   "cell_type": "code",
   "execution_count": 23,
   "id": "67723efb",
   "metadata": {},
   "outputs": [],
   "source": [
    "# for simplicity, we're interested in whether students in a given subgroup were proficient in a given subject \n",
    "ann_regs_cols = ['entity_cd','entity_name','year','subject','subgroup_name',\n",
    "                 'tested','num_prof']\n",
    "nys_annual_regents = nys_annual_regents.loc[:,ann_regs_cols]"
   ]
  },
  {
   "cell_type": "code",
   "execution_count": 24,
   "id": "5bcd676f",
   "metadata": {},
   "outputs": [],
   "source": [
    "# we also want to exclude records that might have 's' in 'num_prof' as these indicate records\n",
    "# containing less than 5 students per subgroup \n",
    "nys_annual_regents = nys_annual_regents[nys_annual_regents.num_prof.str.contains('s')==False]"
   ]
  },
  {
   "cell_type": "markdown",
   "id": "8bf16103",
   "metadata": {},
   "source": [
    "Now we must do that with our `grad-rate` dataset"
   ]
  },
  {
   "cell_type": "code",
   "execution_count": 15,
   "id": "649dd4ac",
   "metadata": {},
   "outputs": [
    {
     "data": {
      "text/plain": [
       "(94896, 6)"
      ]
     },
     "execution_count": 15,
     "metadata": {},
     "output_type": "execute_result"
    }
   ],
   "source": [
    "nys_grad_rate_df.shape"
   ]
  },
  {
   "cell_type": "code",
   "execution_count": 5,
   "id": "f1d0a385",
   "metadata": {},
   "outputs": [
    {
     "data": {
      "text/html": [
       "<div>\n",
       "<style scoped>\n",
       "    .dataframe tbody tr th:only-of-type {\n",
       "        vertical-align: middle;\n",
       "    }\n",
       "\n",
       "    .dataframe tbody tr th {\n",
       "        vertical-align: top;\n",
       "    }\n",
       "\n",
       "    .dataframe thead th {\n",
       "        text-align: right;\n",
       "    }\n",
       "</style>\n",
       "<table border=\"1\" class=\"dataframe\">\n",
       "  <thead>\n",
       "    <tr style=\"text-align: right;\">\n",
       "      <th></th>\n",
       "      <th>INSTITUTION_ID</th>\n",
       "      <th>ENTITY_CD</th>\n",
       "      <th>ENTITY_NAME</th>\n",
       "      <th>YEAR</th>\n",
       "      <th>SUBGROUP_NAME</th>\n",
       "      <th>COHORT</th>\n",
       "      <th>COHORT_COUNT</th>\n",
       "      <th>GRAD_COUNT</th>\n",
       "      <th>GRAD_RATE</th>\n",
       "      <th>COHORT_LEVEL</th>\n",
       "      <th>OVERRIDE</th>\n",
       "      <th>WT_PERF_FLAG</th>\n",
       "    </tr>\n",
       "  </thead>\n",
       "  <tbody>\n",
       "    <tr>\n",
       "      <th>0</th>\n",
       "      <td>800000055729</td>\n",
       "      <td>010100010000</td>\n",
       "      <td>ALBANY CITY SD</td>\n",
       "      <td>2021</td>\n",
       "      <td>American Indian or Alaska Native</td>\n",
       "      <td>5-Year</td>\n",
       "      <td>2</td>\n",
       "      <td>s</td>\n",
       "      <td>s</td>\n",
       "      <td>NaN</td>\n",
       "      <td>NaN</td>\n",
       "      <td>NaN</td>\n",
       "    </tr>\n",
       "    <tr>\n",
       "      <th>1</th>\n",
       "      <td>800000055729</td>\n",
       "      <td>010100010000</td>\n",
       "      <td>ALBANY CITY SD</td>\n",
       "      <td>2021</td>\n",
       "      <td>All Students</td>\n",
       "      <td>5-Year</td>\n",
       "      <td>697</td>\n",
       "      <td>517</td>\n",
       "      <td>74.2</td>\n",
       "      <td>NaN</td>\n",
       "      <td>NaN</td>\n",
       "      <td>NaN</td>\n",
       "    </tr>\n",
       "    <tr>\n",
       "      <th>2</th>\n",
       "      <td>800000055729</td>\n",
       "      <td>010100010000</td>\n",
       "      <td>ALBANY CITY SD</td>\n",
       "      <td>2021</td>\n",
       "      <td>Black or African American</td>\n",
       "      <td>6-Year</td>\n",
       "      <td>351</td>\n",
       "      <td>244</td>\n",
       "      <td>69.5</td>\n",
       "      <td>NaN</td>\n",
       "      <td>NaN</td>\n",
       "      <td>NaN</td>\n",
       "    </tr>\n",
       "    <tr>\n",
       "      <th>3</th>\n",
       "      <td>800000055729</td>\n",
       "      <td>010100010000</td>\n",
       "      <td>ALBANY CITY SD</td>\n",
       "      <td>2022</td>\n",
       "      <td>Economically Disadvantaged</td>\n",
       "      <td>4-Year</td>\n",
       "      <td>434</td>\n",
       "      <td>333</td>\n",
       "      <td>76.7</td>\n",
       "      <td>s</td>\n",
       "      <td>NaN</td>\n",
       "      <td>N</td>\n",
       "    </tr>\n",
       "    <tr>\n",
       "      <th>4</th>\n",
       "      <td>800000055729</td>\n",
       "      <td>010100010000</td>\n",
       "      <td>ALBANY CITY SD</td>\n",
       "      <td>2022</td>\n",
       "      <td>Hispanic or Latino</td>\n",
       "      <td>5-Year</td>\n",
       "      <td>108</td>\n",
       "      <td>78</td>\n",
       "      <td>72.2</td>\n",
       "      <td>s</td>\n",
       "      <td>NaN</td>\n",
       "      <td>N</td>\n",
       "    </tr>\n",
       "  </tbody>\n",
       "</table>\n",
       "</div>"
      ],
      "text/plain": [
       "   INSTITUTION_ID     ENTITY_CD     ENTITY_NAME  YEAR  \\\n",
       "0    800000055729  010100010000  ALBANY CITY SD  2021   \n",
       "1    800000055729  010100010000  ALBANY CITY SD  2021   \n",
       "2    800000055729  010100010000  ALBANY CITY SD  2021   \n",
       "3    800000055729  010100010000  ALBANY CITY SD  2022   \n",
       "4    800000055729  010100010000  ALBANY CITY SD  2022   \n",
       "\n",
       "                      SUBGROUP_NAME  COHORT COHORT_COUNT GRAD_COUNT GRAD_RATE  \\\n",
       "0  American Indian or Alaska Native  5-Year            2          s         s   \n",
       "1                      All Students  5-Year          697        517      74.2   \n",
       "2         Black or African American  6-Year          351        244      69.5   \n",
       "3        Economically Disadvantaged  4-Year          434        333      76.7   \n",
       "4                Hispanic or Latino  5-Year          108         78      72.2   \n",
       "\n",
       "  COHORT_LEVEL OVERRIDE WT_PERF_FLAG  \n",
       "0          NaN      NaN          NaN  \n",
       "1          NaN      NaN          NaN  \n",
       "2          NaN      NaN          NaN  \n",
       "3            s      NaN            N  \n",
       "4            s      NaN            N  "
      ]
     },
     "execution_count": 5,
     "metadata": {},
     "output_type": "execute_result"
    }
   ],
   "source": [
    "# inspecting the head \n",
    "# very messy, need to normalize column names, and filter out desired results\n",
    "nys_grad_rate_df.head()"
   ]
  },
  {
   "cell_type": "markdown",
   "id": "408ef367",
   "metadata": {},
   "source": [
    "Very messy. We only need a subset of columns. For this, we'll leverage the documentation provided to us by the database."
   ]
  },
  {
   "cell_type": "code",
   "execution_count": 13,
   "id": "82cdc730",
   "metadata": {},
   "outputs": [],
   "source": [
    "# transforming our grad rate dataset \n",
    "\n",
    "# normalizing column names \n",
    "nys_grad_rate_df.columns = nys_grad_rate_df.columns.str.lower()\n",
    "\n",
    "# getting only columns of interest \n",
    "nys_grad_rate_df = nys_grad_rate_df.loc[:,['entity_cd','entity_name','year','subgroup_name','cohort','grad_rate']]\n",
    "\n",
    "# removing all records that contain district-level aggregations \n",
    "nys_grad_rate_df = nys_grad_rate_df[~nys_grad_rate_df['entity_cd'].astype('str').str.endswith('0000')]\n",
    "\n",
    "# removing all records containing aggregations on all public schools\n",
    "nys_grad_rate_df = nys_grad_rate_df[~nys_grad_rate_df['entity_cd'].astype('str').str.endswith('111111111111')]\n",
    "\n",
    "\n",
    "# removing all records containing combined aggregate measures for all students \n",
    "nys_grad_rate_df = nys_grad_rate_df[nys_grad_rate_df.subgroup_name != 'All Students']\n",
    "\n",
    "# normalizing entity_name \n",
    "nys_grad_rate_df.entity_name = nys_grad_rate_df.entity_name.str.title()\n",
    "\n",
    "# reseting our index \n",
    "nys_grad_rate_df = nys_grad_rate_df.reset_index(drop=True)"
   ]
  },
  {
   "cell_type": "code",
   "execution_count": 27,
   "id": "1b361a65",
   "metadata": {},
   "outputs": [
    {
     "data": {
      "text/html": [
       "<div>\n",
       "<style scoped>\n",
       "    .dataframe tbody tr th:only-of-type {\n",
       "        vertical-align: middle;\n",
       "    }\n",
       "\n",
       "    .dataframe tbody tr th {\n",
       "        vertical-align: top;\n",
       "    }\n",
       "\n",
       "    .dataframe thead th {\n",
       "        text-align: right;\n",
       "    }\n",
       "</style>\n",
       "<table border=\"1\" class=\"dataframe\">\n",
       "  <thead>\n",
       "    <tr style=\"text-align: right;\">\n",
       "      <th></th>\n",
       "      <th>entity_cd</th>\n",
       "      <th>entity_name</th>\n",
       "      <th>year</th>\n",
       "      <th>subgroup_name</th>\n",
       "      <th>cohort</th>\n",
       "      <th>grad_rate</th>\n",
       "    </tr>\n",
       "  </thead>\n",
       "  <tbody>\n",
       "    <tr>\n",
       "      <th>0</th>\n",
       "      <td>010100010034</td>\n",
       "      <td>Albany High School</td>\n",
       "      <td>2022</td>\n",
       "      <td>Hispanic or Latino</td>\n",
       "      <td>6-Year</td>\n",
       "      <td>75.9</td>\n",
       "    </tr>\n",
       "    <tr>\n",
       "      <th>1</th>\n",
       "      <td>010100010034</td>\n",
       "      <td>Albany High School</td>\n",
       "      <td>2022</td>\n",
       "      <td>English Language Learner</td>\n",
       "      <td>4-Year</td>\n",
       "      <td>78.7</td>\n",
       "    </tr>\n",
       "    <tr>\n",
       "      <th>2</th>\n",
       "      <td>010100010034</td>\n",
       "      <td>Albany High School</td>\n",
       "      <td>2022</td>\n",
       "      <td>Multiracial</td>\n",
       "      <td>6-Year</td>\n",
       "      <td>s</td>\n",
       "    </tr>\n",
       "    <tr>\n",
       "      <th>3</th>\n",
       "      <td>010100010034</td>\n",
       "      <td>Albany High School</td>\n",
       "      <td>2022</td>\n",
       "      <td>Hispanic or Latino</td>\n",
       "      <td>Combined</td>\n",
       "      <td>73.7</td>\n",
       "    </tr>\n",
       "    <tr>\n",
       "      <th>4</th>\n",
       "      <td>010100010034</td>\n",
       "      <td>Albany High School</td>\n",
       "      <td>2022</td>\n",
       "      <td>White</td>\n",
       "      <td>4-Year</td>\n",
       "      <td>86.6</td>\n",
       "    </tr>\n",
       "  </tbody>\n",
       "</table>\n",
       "</div>"
      ],
      "text/plain": [
       "      entity_cd         entity_name  year             subgroup_name    cohort  \\\n",
       "0  010100010034  Albany High School  2022        Hispanic or Latino    6-Year   \n",
       "1  010100010034  Albany High School  2022  English Language Learner    4-Year   \n",
       "2  010100010034  Albany High School  2022               Multiracial    6-Year   \n",
       "3  010100010034  Albany High School  2022        Hispanic or Latino  Combined   \n",
       "4  010100010034  Albany High School  2022                     White    4-Year   \n",
       "\n",
       "  grad_rate  \n",
       "0      75.9  \n",
       "1      78.7  \n",
       "2         s  \n",
       "3      73.7  \n",
       "4      86.6  "
      ]
     },
     "execution_count": 27,
     "metadata": {},
     "output_type": "execute_result"
    }
   ],
   "source": [
    "# we now have a new dataframe containing a lot of information that we still need to further reduce \n",
    "nys_grad_rate_df.head()"
   ]
  },
  {
   "cell_type": "code",
   "execution_count": 16,
   "id": "349e0cae",
   "metadata": {},
   "outputs": [],
   "source": [
    "# creating a new dataframe \n",
    "# this contains graduation_rate records for the Combined cohorts in the year 2022\n",
    "# also want to drop records where grad_rate is == 's' as these are restricted for privacy reasons\n",
    "nys_grad_rate_22 = nys_grad_rate_df[(nys_grad_rate_df.cohort == 'Combined') & (nys_grad_rate_df.year == 2022) \n",
    "                 & (nys_grad_rate_df.grad_rate != 's')]\n",
    "nys_grad_rate_22 = nys_grad_rate_22.drop(columns=['cohort'])\n",
    "nys_grad_rate_22 = nys_grad_rate_22.reset_index(drop=True)"
   ]
  },
  {
   "cell_type": "code",
   "execution_count": 29,
   "id": "26203ea8",
   "metadata": {},
   "outputs": [
    {
     "data": {
      "text/html": [
       "<div>\n",
       "<style scoped>\n",
       "    .dataframe tbody tr th:only-of-type {\n",
       "        vertical-align: middle;\n",
       "    }\n",
       "\n",
       "    .dataframe tbody tr th {\n",
       "        vertical-align: top;\n",
       "    }\n",
       "\n",
       "    .dataframe thead th {\n",
       "        text-align: right;\n",
       "    }\n",
       "</style>\n",
       "<table border=\"1\" class=\"dataframe\">\n",
       "  <thead>\n",
       "    <tr style=\"text-align: right;\">\n",
       "      <th></th>\n",
       "      <th>entity_cd</th>\n",
       "      <th>entity_name</th>\n",
       "      <th>year</th>\n",
       "      <th>subgroup_name</th>\n",
       "      <th>grad_rate</th>\n",
       "    </tr>\n",
       "  </thead>\n",
       "  <tbody>\n",
       "    <tr>\n",
       "      <th>0</th>\n",
       "      <td>010100010034</td>\n",
       "      <td>Albany High School</td>\n",
       "      <td>2022</td>\n",
       "      <td>Hispanic or Latino</td>\n",
       "      <td>73.7</td>\n",
       "    </tr>\n",
       "    <tr>\n",
       "      <th>1</th>\n",
       "      <td>010100010034</td>\n",
       "      <td>Albany High School</td>\n",
       "      <td>2022</td>\n",
       "      <td>White</td>\n",
       "      <td>86.9</td>\n",
       "    </tr>\n",
       "    <tr>\n",
       "      <th>2</th>\n",
       "      <td>010100010034</td>\n",
       "      <td>Albany High School</td>\n",
       "      <td>2022</td>\n",
       "      <td>Multiracial</td>\n",
       "      <td>77.4</td>\n",
       "    </tr>\n",
       "    <tr>\n",
       "      <th>3</th>\n",
       "      <td>010100010034</td>\n",
       "      <td>Albany High School</td>\n",
       "      <td>2022</td>\n",
       "      <td>English Language Learner</td>\n",
       "      <td>70.4</td>\n",
       "    </tr>\n",
       "    <tr>\n",
       "      <th>4</th>\n",
       "      <td>010100010034</td>\n",
       "      <td>Albany High School</td>\n",
       "      <td>2022</td>\n",
       "      <td>Economically Disadvantaged</td>\n",
       "      <td>75.5</td>\n",
       "    </tr>\n",
       "  </tbody>\n",
       "</table>\n",
       "</div>"
      ],
      "text/plain": [
       "      entity_cd         entity_name  year               subgroup_name  \\\n",
       "0  010100010034  Albany High School  2022          Hispanic or Latino   \n",
       "1  010100010034  Albany High School  2022                       White   \n",
       "2  010100010034  Albany High School  2022                 Multiracial   \n",
       "3  010100010034  Albany High School  2022    English Language Learner   \n",
       "4  010100010034  Albany High School  2022  Economically Disadvantaged   \n",
       "\n",
       "  grad_rate  \n",
       "0      73.7  \n",
       "1      86.9  \n",
       "2      77.4  \n",
       "3      70.4  \n",
       "4      75.5  "
      ]
     },
     "execution_count": 29,
     "metadata": {},
     "output_type": "execute_result"
    }
   ],
   "source": [
    "# we now have a dataset containing information we want \n",
    "nys_grad_rate_22.head()"
   ]
  },
  {
   "cell_type": "markdown",
   "id": "89004ee5",
   "metadata": {},
   "source": [
    "Final dataframe to normalize. Need to transform `nys_absenteeism_df` containing information on chronic absenteeism so that we isolate records containing information on the 2021-2022 AY and are not aggregate measures for all students "
   ]
  },
  {
   "cell_type": "code",
   "execution_count": 30,
   "id": "56ddda42",
   "metadata": {},
   "outputs": [
    {
     "data": {
      "text/html": [
       "<div>\n",
       "<style scoped>\n",
       "    .dataframe tbody tr th:only-of-type {\n",
       "        vertical-align: middle;\n",
       "    }\n",
       "\n",
       "    .dataframe tbody tr th {\n",
       "        vertical-align: top;\n",
       "    }\n",
       "\n",
       "    .dataframe thead th {\n",
       "        text-align: right;\n",
       "    }\n",
       "</style>\n",
       "<table border=\"1\" class=\"dataframe\">\n",
       "  <thead>\n",
       "    <tr style=\"text-align: right;\">\n",
       "      <th></th>\n",
       "      <th>INSTITUTION_ID</th>\n",
       "      <th>ENTITY_CD</th>\n",
       "      <th>ENTITY_NAME</th>\n",
       "      <th>YEAR</th>\n",
       "      <th>SUBJECT</th>\n",
       "      <th>SUBGROUP_NAME</th>\n",
       "      <th>ENROLLMENT</th>\n",
       "      <th>ABSENT_COUNT</th>\n",
       "      <th>ABSENT_RATE</th>\n",
       "      <th>LEVEL</th>\n",
       "      <th>OVERRIDE</th>\n",
       "      <th>DATA_REP_FLAG</th>\n",
       "      <th>PARTIAL_DATA_FLAG</th>\n",
       "    </tr>\n",
       "  </thead>\n",
       "  <tbody>\n",
       "    <tr>\n",
       "      <th>0</th>\n",
       "      <td>800000055729</td>\n",
       "      <td>010100010000</td>\n",
       "      <td>ALBANY CITY SD</td>\n",
       "      <td>2021</td>\n",
       "      <td>HS_CA</td>\n",
       "      <td>All Students</td>\n",
       "      <td>2755</td>\n",
       "      <td>1031</td>\n",
       "      <td>37.4</td>\n",
       "      <td>NaN</td>\n",
       "      <td>NaN</td>\n",
       "      <td>Y</td>\n",
       "      <td>NaN</td>\n",
       "    </tr>\n",
       "    <tr>\n",
       "      <th>1</th>\n",
       "      <td>800000055729</td>\n",
       "      <td>010100010000</td>\n",
       "      <td>ALBANY CITY SD</td>\n",
       "      <td>2021</td>\n",
       "      <td>HS_CA</td>\n",
       "      <td>Students with Disabilities</td>\n",
       "      <td>415</td>\n",
       "      <td>197</td>\n",
       "      <td>47.5</td>\n",
       "      <td>NaN</td>\n",
       "      <td>NaN</td>\n",
       "      <td>Y</td>\n",
       "      <td>NaN</td>\n",
       "    </tr>\n",
       "    <tr>\n",
       "      <th>2</th>\n",
       "      <td>800000055729</td>\n",
       "      <td>010100010000</td>\n",
       "      <td>ALBANY CITY SD</td>\n",
       "      <td>2021</td>\n",
       "      <td>HS_CA</td>\n",
       "      <td>American Indian or Alaska Native</td>\n",
       "      <td>9</td>\n",
       "      <td>s</td>\n",
       "      <td>s</td>\n",
       "      <td>NaN</td>\n",
       "      <td>NaN</td>\n",
       "      <td>Y</td>\n",
       "      <td>NaN</td>\n",
       "    </tr>\n",
       "    <tr>\n",
       "      <th>3</th>\n",
       "      <td>800000055729</td>\n",
       "      <td>010100010000</td>\n",
       "      <td>ALBANY CITY SD</td>\n",
       "      <td>2021</td>\n",
       "      <td>HS_CA</td>\n",
       "      <td>Asian or Native Hawaiian/Other Pacific Islander</td>\n",
       "      <td>219</td>\n",
       "      <td>40</td>\n",
       "      <td>18.3</td>\n",
       "      <td>NaN</td>\n",
       "      <td>NaN</td>\n",
       "      <td>Y</td>\n",
       "      <td>NaN</td>\n",
       "    </tr>\n",
       "    <tr>\n",
       "      <th>4</th>\n",
       "      <td>800000055729</td>\n",
       "      <td>010100010000</td>\n",
       "      <td>ALBANY CITY SD</td>\n",
       "      <td>2021</td>\n",
       "      <td>HS_CA</td>\n",
       "      <td>Black or African American</td>\n",
       "      <td>1398</td>\n",
       "      <td>624</td>\n",
       "      <td>44.6</td>\n",
       "      <td>NaN</td>\n",
       "      <td>NaN</td>\n",
       "      <td>Y</td>\n",
       "      <td>NaN</td>\n",
       "    </tr>\n",
       "  </tbody>\n",
       "</table>\n",
       "</div>"
      ],
      "text/plain": [
       "   INSTITUTION_ID     ENTITY_CD     ENTITY_NAME  YEAR SUBJECT  \\\n",
       "0    800000055729  010100010000  ALBANY CITY SD  2021   HS_CA   \n",
       "1    800000055729  010100010000  ALBANY CITY SD  2021   HS_CA   \n",
       "2    800000055729  010100010000  ALBANY CITY SD  2021   HS_CA   \n",
       "3    800000055729  010100010000  ALBANY CITY SD  2021   HS_CA   \n",
       "4    800000055729  010100010000  ALBANY CITY SD  2021   HS_CA   \n",
       "\n",
       "                                     SUBGROUP_NAME ENROLLMENT ABSENT_COUNT  \\\n",
       "0                                     All Students       2755         1031   \n",
       "1                       Students with Disabilities        415          197   \n",
       "2                 American Indian or Alaska Native          9            s   \n",
       "3  Asian or Native Hawaiian/Other Pacific Islander        219           40   \n",
       "4                        Black or African American       1398          624   \n",
       "\n",
       "  ABSENT_RATE LEVEL OVERRIDE DATA_REP_FLAG PARTIAL_DATA_FLAG  \n",
       "0        37.4   NaN      NaN             Y               NaN  \n",
       "1        47.5   NaN      NaN             Y               NaN  \n",
       "2           s   NaN      NaN             Y               NaN  \n",
       "3        18.3   NaN      NaN             Y               NaN  \n",
       "4        44.6   NaN      NaN             Y               NaN  "
      ]
     },
     "execution_count": 30,
     "metadata": {},
     "output_type": "execute_result"
    }
   ],
   "source": [
    "# looking at the first five records of the dataset \n",
    "nys_absenteeism_df.head()"
   ]
  },
  {
   "cell_type": "code",
   "execution_count": 39,
   "id": "50d6bd7d",
   "metadata": {},
   "outputs": [
    {
     "data": {
      "text/html": [
       "<div>\n",
       "<style scoped>\n",
       "    .dataframe tbody tr th:only-of-type {\n",
       "        vertical-align: middle;\n",
       "    }\n",
       "\n",
       "    .dataframe tbody tr th {\n",
       "        vertical-align: top;\n",
       "    }\n",
       "\n",
       "    .dataframe thead th {\n",
       "        text-align: right;\n",
       "    }\n",
       "</style>\n",
       "<table border=\"1\" class=\"dataframe\">\n",
       "  <thead>\n",
       "    <tr style=\"text-align: right;\">\n",
       "      <th></th>\n",
       "      <th>entity_cd</th>\n",
       "      <th>entity_name</th>\n",
       "      <th>year</th>\n",
       "      <th>subgroup_name</th>\n",
       "      <th>absent_rate</th>\n",
       "    </tr>\n",
       "  </thead>\n",
       "  <tbody>\n",
       "    <tr>\n",
       "      <th>0</th>\n",
       "      <td>010100010034</td>\n",
       "      <td>Albany High School</td>\n",
       "      <td>2022</td>\n",
       "      <td>Students with Disabilities</td>\n",
       "      <td>64.5</td>\n",
       "    </tr>\n",
       "    <tr>\n",
       "      <th>1</th>\n",
       "      <td>010100010034</td>\n",
       "      <td>Albany High School</td>\n",
       "      <td>2022</td>\n",
       "      <td>American Indian or Alaska Native</td>\n",
       "      <td>s</td>\n",
       "    </tr>\n",
       "    <tr>\n",
       "      <th>2</th>\n",
       "      <td>010100010034</td>\n",
       "      <td>Albany High School</td>\n",
       "      <td>2022</td>\n",
       "      <td>Asian or Native Hawaiian/Other Pacific Islander</td>\n",
       "      <td>41.8</td>\n",
       "    </tr>\n",
       "    <tr>\n",
       "      <th>3</th>\n",
       "      <td>010100010034</td>\n",
       "      <td>Albany High School</td>\n",
       "      <td>2022</td>\n",
       "      <td>Black or African American</td>\n",
       "      <td>67.8</td>\n",
       "    </tr>\n",
       "    <tr>\n",
       "      <th>4</th>\n",
       "      <td>010100010034</td>\n",
       "      <td>Albany High School</td>\n",
       "      <td>2022</td>\n",
       "      <td>Hispanic or Latino</td>\n",
       "      <td>68.3</td>\n",
       "    </tr>\n",
       "  </tbody>\n",
       "</table>\n",
       "</div>"
      ],
      "text/plain": [
       "      entity_cd         entity_name  year  \\\n",
       "0  010100010034  Albany High School  2022   \n",
       "1  010100010034  Albany High School  2022   \n",
       "2  010100010034  Albany High School  2022   \n",
       "3  010100010034  Albany High School  2022   \n",
       "4  010100010034  Albany High School  2022   \n",
       "\n",
       "                                     subgroup_name absent_rate  \n",
       "0                       Students with Disabilities        64.5  \n",
       "1                 American Indian or Alaska Native           s  \n",
       "2  Asian or Native Hawaiian/Other Pacific Islander        41.8  \n",
       "3                        Black or African American        67.8  \n",
       "4                               Hispanic or Latino        68.3  "
      ]
     },
     "execution_count": 39,
     "metadata": {},
     "output_type": "execute_result"
    }
   ],
   "source": [
    "# transforming our chronic absenteeism dataset\n",
    "\n",
    "# normalizing column names \n",
    "nys_absenteeism_df.columns = nys_absenteeism_df.columns.str.lower()\n",
    "\n",
    "# selecting columns of importance\n",
    "nys_absenteeism_df = nys_absenteeism_df.loc[:,['entity_cd', 'entity_name','year','subgroup_name','absent_rate']]\n",
    "\n",
    "# removing records that contain district-level aggregations \n",
    "nys_absenteeism_df = nys_absenteeism_df[~nys_absenteeism_df['entity_cd'].astype('str').str.endswith('0000')]\n",
    "\n",
    "# filtering records so that we have info only on 2021-2022 AY\n",
    "nys_absenteeism_df = nys_absenteeism_df[nys_absenteeism_df.year == 2022]\n",
    "\n",
    "# removing records that are aggregations between all subgroups of students \n",
    "nys_absenteeism_df = nys_absenteeism_df[nys_absenteeism_df.subgroup_name != 'All Students']\n",
    "\n",
    "# normalizing entity_name \n",
    "nys_absenteeism_df.entity_name = nys_absenteeism_df.entity_name.str.title()\n",
    "nys_absenteeism_df = nys_absenteeism_df.reset_index(drop=True)\n",
    "nys_absenteeism_df.head()"
   ]
  },
  {
   "cell_type": "code",
   "execution_count": null,
   "id": "7b03fcf4",
   "metadata": {},
   "outputs": [],
   "source": []
  },
  {
   "cell_type": "markdown",
   "id": "ad9fa69f",
   "metadata": {},
   "source": [
    "## Cleaned Datasets"
   ]
  },
  {
   "cell_type": "markdown",
   "id": "9cd50c70",
   "metadata": {},
   "source": [
    "Our new datasets, after filtering and cleaning up a bit include: `nys_absenteeism_df`, `nys_grad_rate_22`, `nys_annual_regents`."
   ]
  },
  {
   "cell_type": "code",
   "execution_count": 40,
   "id": "4cf51d92",
   "metadata": {},
   "outputs": [
    {
     "data": {
      "text/html": [
       "<div>\n",
       "<style scoped>\n",
       "    .dataframe tbody tr th:only-of-type {\n",
       "        vertical-align: middle;\n",
       "    }\n",
       "\n",
       "    .dataframe tbody tr th {\n",
       "        vertical-align: top;\n",
       "    }\n",
       "\n",
       "    .dataframe thead th {\n",
       "        text-align: right;\n",
       "    }\n",
       "</style>\n",
       "<table border=\"1\" class=\"dataframe\">\n",
       "  <thead>\n",
       "    <tr style=\"text-align: right;\">\n",
       "      <th></th>\n",
       "      <th>entity_cd</th>\n",
       "      <th>entity_name</th>\n",
       "      <th>year</th>\n",
       "      <th>subgroup_name</th>\n",
       "      <th>grad_rate</th>\n",
       "    </tr>\n",
       "  </thead>\n",
       "  <tbody>\n",
       "    <tr>\n",
       "      <th>0</th>\n",
       "      <td>010100010034</td>\n",
       "      <td>Albany High School</td>\n",
       "      <td>2022</td>\n",
       "      <td>Hispanic or Latino</td>\n",
       "      <td>73.7</td>\n",
       "    </tr>\n",
       "    <tr>\n",
       "      <th>1</th>\n",
       "      <td>010100010034</td>\n",
       "      <td>Albany High School</td>\n",
       "      <td>2022</td>\n",
       "      <td>White</td>\n",
       "      <td>86.9</td>\n",
       "    </tr>\n",
       "    <tr>\n",
       "      <th>2</th>\n",
       "      <td>010100010034</td>\n",
       "      <td>Albany High School</td>\n",
       "      <td>2022</td>\n",
       "      <td>Multiracial</td>\n",
       "      <td>77.4</td>\n",
       "    </tr>\n",
       "    <tr>\n",
       "      <th>3</th>\n",
       "      <td>010100010034</td>\n",
       "      <td>Albany High School</td>\n",
       "      <td>2022</td>\n",
       "      <td>English Language Learner</td>\n",
       "      <td>70.4</td>\n",
       "    </tr>\n",
       "    <tr>\n",
       "      <th>4</th>\n",
       "      <td>010100010034</td>\n",
       "      <td>Albany High School</td>\n",
       "      <td>2022</td>\n",
       "      <td>Economically Disadvantaged</td>\n",
       "      <td>75.5</td>\n",
       "    </tr>\n",
       "  </tbody>\n",
       "</table>\n",
       "</div>"
      ],
      "text/plain": [
       "      entity_cd         entity_name  year               subgroup_name  \\\n",
       "0  010100010034  Albany High School  2022          Hispanic or Latino   \n",
       "1  010100010034  Albany High School  2022                       White   \n",
       "2  010100010034  Albany High School  2022                 Multiracial   \n",
       "3  010100010034  Albany High School  2022    English Language Learner   \n",
       "4  010100010034  Albany High School  2022  Economically Disadvantaged   \n",
       "\n",
       "  grad_rate  \n",
       "0      73.7  \n",
       "1      86.9  \n",
       "2      77.4  \n",
       "3      70.4  \n",
       "4      75.5  "
      ]
     },
     "execution_count": 40,
     "metadata": {},
     "output_type": "execute_result"
    }
   ],
   "source": [
    "nys_grad_rate_22.head()"
   ]
  },
  {
   "cell_type": "code",
   "execution_count": 41,
   "id": "4adf8814",
   "metadata": {},
   "outputs": [
    {
     "data": {
      "text/html": [
       "<div>\n",
       "<style scoped>\n",
       "    .dataframe tbody tr th:only-of-type {\n",
       "        vertical-align: middle;\n",
       "    }\n",
       "\n",
       "    .dataframe tbody tr th {\n",
       "        vertical-align: top;\n",
       "    }\n",
       "\n",
       "    .dataframe thead th {\n",
       "        text-align: right;\n",
       "    }\n",
       "</style>\n",
       "<table border=\"1\" class=\"dataframe\">\n",
       "  <thead>\n",
       "    <tr style=\"text-align: right;\">\n",
       "      <th></th>\n",
       "      <th>entity_cd</th>\n",
       "      <th>entity_name</th>\n",
       "      <th>year</th>\n",
       "      <th>subgroup_name</th>\n",
       "      <th>absent_rate</th>\n",
       "    </tr>\n",
       "  </thead>\n",
       "  <tbody>\n",
       "    <tr>\n",
       "      <th>0</th>\n",
       "      <td>010100010034</td>\n",
       "      <td>Albany High School</td>\n",
       "      <td>2022</td>\n",
       "      <td>Students with Disabilities</td>\n",
       "      <td>64.5</td>\n",
       "    </tr>\n",
       "    <tr>\n",
       "      <th>1</th>\n",
       "      <td>010100010034</td>\n",
       "      <td>Albany High School</td>\n",
       "      <td>2022</td>\n",
       "      <td>American Indian or Alaska Native</td>\n",
       "      <td>s</td>\n",
       "    </tr>\n",
       "    <tr>\n",
       "      <th>2</th>\n",
       "      <td>010100010034</td>\n",
       "      <td>Albany High School</td>\n",
       "      <td>2022</td>\n",
       "      <td>Asian or Native Hawaiian/Other Pacific Islander</td>\n",
       "      <td>41.8</td>\n",
       "    </tr>\n",
       "    <tr>\n",
       "      <th>3</th>\n",
       "      <td>010100010034</td>\n",
       "      <td>Albany High School</td>\n",
       "      <td>2022</td>\n",
       "      <td>Black or African American</td>\n",
       "      <td>67.8</td>\n",
       "    </tr>\n",
       "    <tr>\n",
       "      <th>4</th>\n",
       "      <td>010100010034</td>\n",
       "      <td>Albany High School</td>\n",
       "      <td>2022</td>\n",
       "      <td>Hispanic or Latino</td>\n",
       "      <td>68.3</td>\n",
       "    </tr>\n",
       "  </tbody>\n",
       "</table>\n",
       "</div>"
      ],
      "text/plain": [
       "      entity_cd         entity_name  year  \\\n",
       "0  010100010034  Albany High School  2022   \n",
       "1  010100010034  Albany High School  2022   \n",
       "2  010100010034  Albany High School  2022   \n",
       "3  010100010034  Albany High School  2022   \n",
       "4  010100010034  Albany High School  2022   \n",
       "\n",
       "                                     subgroup_name absent_rate  \n",
       "0                       Students with Disabilities        64.5  \n",
       "1                 American Indian or Alaska Native           s  \n",
       "2  Asian or Native Hawaiian/Other Pacific Islander        41.8  \n",
       "3                        Black or African American        67.8  \n",
       "4                               Hispanic or Latino        68.3  "
      ]
     },
     "execution_count": 41,
     "metadata": {},
     "output_type": "execute_result"
    }
   ],
   "source": [
    "# information on chronic absenteeism rates by subgroup for the 2021-2022 AY \n",
    "nys_absenteeism_df.head()"
   ]
  },
  {
   "cell_type": "code",
   "execution_count": 45,
   "id": "7bf23fe7",
   "metadata": {},
   "outputs": [
    {
     "data": {
      "text/html": [
       "<div>\n",
       "<style scoped>\n",
       "    .dataframe tbody tr th:only-of-type {\n",
       "        vertical-align: middle;\n",
       "    }\n",
       "\n",
       "    .dataframe tbody tr th {\n",
       "        vertical-align: top;\n",
       "    }\n",
       "\n",
       "    .dataframe thead th {\n",
       "        text-align: right;\n",
       "    }\n",
       "</style>\n",
       "<table border=\"1\" class=\"dataframe\">\n",
       "  <thead>\n",
       "    <tr style=\"text-align: right;\">\n",
       "      <th></th>\n",
       "      <th>entity_cd</th>\n",
       "      <th>entity_name</th>\n",
       "      <th>year</th>\n",
       "      <th>subject</th>\n",
       "      <th>subgroup_name</th>\n",
       "      <th>tested</th>\n",
       "      <th>num_prof</th>\n",
       "    </tr>\n",
       "  </thead>\n",
       "  <tbody>\n",
       "    <tr>\n",
       "      <th>234654</th>\n",
       "      <td>10100010030</td>\n",
       "      <td>William S Hackett Middle School</td>\n",
       "      <td>2022</td>\n",
       "      <td>Regents Common Core Algebra I</td>\n",
       "      <td>Asian or Native Hawaiian/Other Pacific Islander</td>\n",
       "      <td>17</td>\n",
       "      <td>14</td>\n",
       "    </tr>\n",
       "    <tr>\n",
       "      <th>234655</th>\n",
       "      <td>10100010030</td>\n",
       "      <td>William S Hackett Middle School</td>\n",
       "      <td>2022</td>\n",
       "      <td>Regents Living Environment</td>\n",
       "      <td>Asian or Native Hawaiian/Other Pacific Islander</td>\n",
       "      <td>14</td>\n",
       "      <td>14</td>\n",
       "    </tr>\n",
       "    <tr>\n",
       "      <th>234658</th>\n",
       "      <td>10100010030</td>\n",
       "      <td>William S Hackett Middle School</td>\n",
       "      <td>2022</td>\n",
       "      <td>Regents Common Core Algebra I</td>\n",
       "      <td>Economically Disadvantaged</td>\n",
       "      <td>23</td>\n",
       "      <td>20</td>\n",
       "    </tr>\n",
       "    <tr>\n",
       "      <th>234659</th>\n",
       "      <td>10100010030</td>\n",
       "      <td>William S Hackett Middle School</td>\n",
       "      <td>2022</td>\n",
       "      <td>Regents Living Environment</td>\n",
       "      <td>Economically Disadvantaged</td>\n",
       "      <td>25</td>\n",
       "      <td>21</td>\n",
       "    </tr>\n",
       "    <tr>\n",
       "      <th>234661</th>\n",
       "      <td>10100010030</td>\n",
       "      <td>William S Hackett Middle School</td>\n",
       "      <td>2022</td>\n",
       "      <td>Regents Common Core Algebra I</td>\n",
       "      <td>Female</td>\n",
       "      <td>33</td>\n",
       "      <td>32</td>\n",
       "    </tr>\n",
       "  </tbody>\n",
       "</table>\n",
       "</div>"
      ],
      "text/plain": [
       "          entity_cd                      entity_name  year  \\\n",
       "234654  10100010030  William S Hackett Middle School  2022   \n",
       "234655  10100010030  William S Hackett Middle School  2022   \n",
       "234658  10100010030  William S Hackett Middle School  2022   \n",
       "234659  10100010030  William S Hackett Middle School  2022   \n",
       "234661  10100010030  William S Hackett Middle School  2022   \n",
       "\n",
       "                              subject  \\\n",
       "234654  Regents Common Core Algebra I   \n",
       "234655     Regents Living Environment   \n",
       "234658  Regents Common Core Algebra I   \n",
       "234659     Regents Living Environment   \n",
       "234661  Regents Common Core Algebra I   \n",
       "\n",
       "                                          subgroup_name  tested num_prof  \n",
       "234654  Asian or Native Hawaiian/Other Pacific Islander      17       14  \n",
       "234655  Asian or Native Hawaiian/Other Pacific Islander      14       14  \n",
       "234658                       Economically Disadvantaged      23       20  \n",
       "234659                       Economically Disadvantaged      25       21  \n",
       "234661                                           Female      33       32  "
      ]
     },
     "execution_count": 45,
     "metadata": {},
     "output_type": "execute_result"
    }
   ],
   "source": [
    "nys_annual_regents.head()"
   ]
  },
  {
   "cell_type": "markdown",
   "id": "0b96cf37",
   "metadata": {},
   "source": [
    "Now, we need to merge the two columns to have a total of 4 shared columns and 5 features, thus having 9 columns in our final dataframe"
   ]
  },
  {
   "cell_type": "markdown",
   "id": "816d5ea2",
   "metadata": {},
   "source": [
    "## Other Datasets For Future Modeling "
   ]
  },
  {
   "cell_type": "code",
   "execution_count": 22,
   "id": "3c07d465",
   "metadata": {},
   "outputs": [],
   "source": [
    "# creating a new dataframe \n",
    "# this contains graduation_rate records for all cohorts that graduated in 2022\n",
    "# also want to drop records where grad_rate is == 's' as these are restricted for privacy reasons\n",
    "nys_grad_cohorts = nys_grad_rate_df[(nys_grad_rate_df.cohort != 'Combined') & (nys_grad_rate_df.year == 2022) \n",
    "                 & (nys_grad_rate_df.grad_rate != 's')]\n",
    "nys_grad_cohorts = nys_grad_cohorts.reset_index(drop=True)\n",
    "\n",
    "# exporting as csv to data folder \n",
    "# only run once \n",
    "#nys_grad_cohorts.to_csv('data/cohort_gradrates_22',index=False)"
   ]
  },
  {
   "cell_type": "code",
   "execution_count": 152,
   "id": "48f9e294",
   "metadata": {},
   "outputs": [],
   "source": [
    "# extracting useful grouping information from another dataset \n",
    "# contains what district, county, NRC each school belongs to \n",
    "nys_cats = pd.read_csv('raw data/GRAD_RATE_AND_OUTCOMES_2022.csv',usecols=\n",
    "            ['subgroup_name','aggregation_code','aggregation_name','lea_name','nrc_code','nrc_desc','county_name','county_code'],\n",
    "                       dtype=str)"
   ]
  },
  {
   "cell_type": "code",
   "execution_count": 153,
   "id": "ce6e3a54",
   "metadata": {},
   "outputs": [],
   "source": [
    "# removing records that contain aggregated records that aren't useful \n",
    "nys_cats = nys_cats[~nys_cats['aggregation_code'].astype('str').str.endswith('0000')]\n",
    "nys_cats = nys_cats[~nys_cats['aggregation_code'].astype('str').str.endswith('0001')]\n",
    "nys_cats = nys_cats[~nys_cats['aggregation_code'].astype('str').str.endswith('0002')]\n",
    "nys_cats = nys_cats[~nys_cats['aggregation_code'].astype('str').str.endswith('0003')]\n",
    "nys_cats = nys_cats[~nys_cats['aggregation_code'].astype('str').str.endswith('0004')]\n",
    "nys_cats = nys_cats[~nys_cats['aggregation_code'].astype('str').str.endswith('0005')]\n",
    "nys_cats = nys_cats[~nys_cats['aggregation_code'].astype('str').str.endswith('0006')]\n",
    "nys_cats = nys_cats[~nys_cats['aggregation_code'].astype('str').str.endswith('0007')]\n",
    "\n",
    "# renaming columns \n",
    "nys_cats = nys_cats.rename(\n",
    "    columns={'aggregation_code':'beds_cd','aggregation_name':'school','lea_name':'district'})\n",
    "\n",
    "# normalizing str values \n",
    "nys_cats.school = nys_cats.school.str.title()\n",
    "nys_cats.district = nys_cats.district.str.title()\n",
    "nys_cats.county_name = nys_cats.county_name.str.title()\n",
    "nys_cats = nys_cats.reset_index(drop=True)"
   ]
  },
  {
   "cell_type": "markdown",
   "id": "4e465118",
   "metadata": {},
   "source": [
    "## Exporting Cleaned Data "
   ]
  },
  {
   "cell_type": "code",
   "execution_count": 55,
   "id": "3872018d",
   "metadata": {},
   "outputs": [
    {
     "name": "stdout",
     "output_type": "stream",
     "text": [
      "<class 'pandas.core.frame.DataFrame'>\n",
      "RangeIndex: 4680 entries, 0 to 4679\n",
      "Data columns (total 5 columns):\n",
      " #   Column         Non-Null Count  Dtype \n",
      "---  ------         --------------  ----- \n",
      " 0   entity_cd      4680 non-null   string\n",
      " 1   entity_name    4680 non-null   object\n",
      " 2   year           4680 non-null   int64 \n",
      " 3   subgroup_name  4680 non-null   object\n",
      " 4   grad_rate      4680 non-null   object\n",
      "dtypes: int64(1), object(3), string(1)\n",
      "memory usage: 182.9+ KB\n"
     ]
    }
   ],
   "source": [
    "# before we export, need to make sure data has right dtypes \n",
    "nys_grad_rate_22.info()"
   ]
  },
  {
   "cell_type": "markdown",
   "id": "02495091",
   "metadata": {},
   "source": [
    "We need to do some conversions, as `grad_rate` is an `dtype:object` and we need it to be a `float64`"
   ]
  },
  {
   "cell_type": "code",
   "execution_count": 62,
   "id": "f8848d08",
   "metadata": {},
   "outputs": [],
   "source": [
    "nys_grad_rate_22.grad_rate = nys_grad_rate_22.grad_rate.astype('float64')\n",
    "nys_grad_rate_22.entity_cd = nys_grad_rate_22.entity_cd.astype('object')"
   ]
  },
  {
   "cell_type": "code",
   "execution_count": 63,
   "id": "c8467d36",
   "metadata": {},
   "outputs": [
    {
     "name": "stdout",
     "output_type": "stream",
     "text": [
      "<class 'pandas.core.frame.DataFrame'>\n",
      "RangeIndex: 4680 entries, 0 to 4679\n",
      "Data columns (total 5 columns):\n",
      " #   Column         Non-Null Count  Dtype  \n",
      "---  ------         --------------  -----  \n",
      " 0   entity_cd      4680 non-null   object \n",
      " 1   entity_name    4680 non-null   object \n",
      " 2   year           4680 non-null   int64  \n",
      " 3   subgroup_name  4680 non-null   object \n",
      " 4   grad_rate      4680 non-null   float64\n",
      "dtypes: float64(1), int64(1), object(3)\n",
      "memory usage: 182.9+ KB\n"
     ]
    }
   ],
   "source": [
    "nys_grad_rate_22.info()"
   ]
  },
  {
   "cell_type": "code",
   "execution_count": 68,
   "id": "0a727063",
   "metadata": {},
   "outputs": [],
   "source": [
    "#nys_grad_rate_22.to_csv('data/2022_NYS_grad-rate.csv',index=False)"
   ]
  },
  {
   "cell_type": "markdown",
   "id": "7177532b",
   "metadata": {},
   "source": [
    "## Test with Pigs Dataset"
   ]
  },
  {
   "cell_type": "code",
   "execution_count": 46,
   "id": "28a76bbf",
   "metadata": {},
   "outputs": [],
   "source": [
    "from scipy import stats \n",
    "from matplotlib import style \n",
    "import seaborn as sns \n",
    "import matplotlib.pyplot as plt\n",
    "import statsmodels.api as sm \n",
    "import statsmodels.formula.api as smf\n",
    "style.use(\"fivethirtyeight\")"
   ]
  },
  {
   "cell_type": "code",
   "execution_count": 47,
   "id": "92377c11",
   "metadata": {},
   "outputs": [],
   "source": [
    "df = sm.datasets.get_rdataset('dietox','geepack').data"
   ]
  },
  {
   "cell_type": "code",
   "execution_count": 48,
   "id": "514f92c1",
   "metadata": {},
   "outputs": [
    {
     "data": {
      "text/plain": [
       "72"
      ]
     },
     "execution_count": 48,
     "metadata": {},
     "output_type": "execute_result"
    }
   ],
   "source": [
    "len(df.Pig.unique())"
   ]
  },
  {
   "cell_type": "code",
   "execution_count": 66,
   "id": "98e0eb33",
   "metadata": {},
   "outputs": [
    {
     "data": {
      "text/html": [
       "<div>\n",
       "<style scoped>\n",
       "    .dataframe tbody tr th:only-of-type {\n",
       "        vertical-align: middle;\n",
       "    }\n",
       "\n",
       "    .dataframe tbody tr th {\n",
       "        vertical-align: top;\n",
       "    }\n",
       "\n",
       "    .dataframe thead th {\n",
       "        text-align: right;\n",
       "    }\n",
       "</style>\n",
       "<table border=\"1\" class=\"dataframe\">\n",
       "  <thead>\n",
       "    <tr style=\"text-align: right;\">\n",
       "      <th></th>\n",
       "      <th></th>\n",
       "      <th>Evit</th>\n",
       "      <th>Cu</th>\n",
       "      <th>Litter</th>\n",
       "      <th>Start</th>\n",
       "      <th>Weight</th>\n",
       "      <th>Feed</th>\n",
       "    </tr>\n",
       "    <tr>\n",
       "      <th>Pig</th>\n",
       "      <th>Time</th>\n",
       "      <th></th>\n",
       "      <th></th>\n",
       "      <th></th>\n",
       "      <th></th>\n",
       "      <th></th>\n",
       "      <th></th>\n",
       "    </tr>\n",
       "  </thead>\n",
       "  <tbody>\n",
       "    <tr>\n",
       "      <th rowspan=\"5\" valign=\"top\">4601</th>\n",
       "      <th>1</th>\n",
       "      <td>Evit000</td>\n",
       "      <td>Cu000</td>\n",
       "      <td>1</td>\n",
       "      <td>26.5</td>\n",
       "      <td>26.50000</td>\n",
       "      <td>NaN</td>\n",
       "    </tr>\n",
       "    <tr>\n",
       "      <th>2</th>\n",
       "      <td>Evit000</td>\n",
       "      <td>Cu000</td>\n",
       "      <td>1</td>\n",
       "      <td>26.5</td>\n",
       "      <td>27.59999</td>\n",
       "      <td>5.200005</td>\n",
       "    </tr>\n",
       "    <tr>\n",
       "      <th>3</th>\n",
       "      <td>Evit000</td>\n",
       "      <td>Cu000</td>\n",
       "      <td>1</td>\n",
       "      <td>26.5</td>\n",
       "      <td>36.50000</td>\n",
       "      <td>17.600000</td>\n",
       "    </tr>\n",
       "    <tr>\n",
       "      <th>4</th>\n",
       "      <td>Evit000</td>\n",
       "      <td>Cu000</td>\n",
       "      <td>1</td>\n",
       "      <td>26.5</td>\n",
       "      <td>40.29999</td>\n",
       "      <td>28.500000</td>\n",
       "    </tr>\n",
       "    <tr>\n",
       "      <th>5</th>\n",
       "      <td>Evit000</td>\n",
       "      <td>Cu000</td>\n",
       "      <td>1</td>\n",
       "      <td>26.5</td>\n",
       "      <td>49.09998</td>\n",
       "      <td>45.200001</td>\n",
       "    </tr>\n",
       "    <tr>\n",
       "      <th>...</th>\n",
       "      <th>...</th>\n",
       "      <td>...</td>\n",
       "      <td>...</td>\n",
       "      <td>...</td>\n",
       "      <td>...</td>\n",
       "      <td>...</td>\n",
       "      <td>...</td>\n",
       "    </tr>\n",
       "    <tr>\n",
       "      <th rowspan=\"5\" valign=\"top\">8442</th>\n",
       "      <th>8</th>\n",
       "      <td>Evit000</td>\n",
       "      <td>Cu175</td>\n",
       "      <td>24</td>\n",
       "      <td>25.7</td>\n",
       "      <td>73.19995</td>\n",
       "      <td>83.800003</td>\n",
       "    </tr>\n",
       "    <tr>\n",
       "      <th>9</th>\n",
       "      <td>Evit000</td>\n",
       "      <td>Cu175</td>\n",
       "      <td>24</td>\n",
       "      <td>25.7</td>\n",
       "      <td>81.69995</td>\n",
       "      <td>99.800003</td>\n",
       "    </tr>\n",
       "    <tr>\n",
       "      <th>10</th>\n",
       "      <td>Evit000</td>\n",
       "      <td>Cu175</td>\n",
       "      <td>24</td>\n",
       "      <td>25.7</td>\n",
       "      <td>90.29999</td>\n",
       "      <td>115.200001</td>\n",
       "    </tr>\n",
       "    <tr>\n",
       "      <th>11</th>\n",
       "      <td>Evit000</td>\n",
       "      <td>Cu175</td>\n",
       "      <td>24</td>\n",
       "      <td>25.7</td>\n",
       "      <td>96.00000</td>\n",
       "      <td>133.200001</td>\n",
       "    </tr>\n",
       "    <tr>\n",
       "      <th>12</th>\n",
       "      <td>Evit000</td>\n",
       "      <td>Cu175</td>\n",
       "      <td>24</td>\n",
       "      <td>25.7</td>\n",
       "      <td>103.50000</td>\n",
       "      <td>151.400002</td>\n",
       "    </tr>\n",
       "  </tbody>\n",
       "</table>\n",
       "<p>861 rows × 6 columns</p>\n",
       "</div>"
      ],
      "text/plain": [
       "              Evit     Cu  Litter  Start     Weight        Feed\n",
       "Pig  Time                                                      \n",
       "4601 1     Evit000  Cu000       1   26.5   26.50000         NaN\n",
       "     2     Evit000  Cu000       1   26.5   27.59999    5.200005\n",
       "     3     Evit000  Cu000       1   26.5   36.50000   17.600000\n",
       "     4     Evit000  Cu000       1   26.5   40.29999   28.500000\n",
       "     5     Evit000  Cu000       1   26.5   49.09998   45.200001\n",
       "...            ...    ...     ...    ...        ...         ...\n",
       "8442 8     Evit000  Cu175      24   25.7   73.19995   83.800003\n",
       "     9     Evit000  Cu175      24   25.7   81.69995   99.800003\n",
       "     10    Evit000  Cu175      24   25.7   90.29999  115.200001\n",
       "     11    Evit000  Cu175      24   25.7   96.00000  133.200001\n",
       "     12    Evit000  Cu175      24   25.7  103.50000  151.400002\n",
       "\n",
       "[861 rows x 6 columns]"
      ]
     },
     "execution_count": 66,
     "metadata": {},
     "output_type": "execute_result"
    }
   ],
   "source": [
    "df.groupby(['Pig','Time']).last()"
   ]
  },
  {
   "cell_type": "code",
   "execution_count": 51,
   "id": "c48ea9dc",
   "metadata": {},
   "outputs": [],
   "source": [
    "md = smf.mixedlm(\"Weight ~ Time\", df, groups=df['Pig'])"
   ]
  },
  {
   "cell_type": "code",
   "execution_count": 52,
   "id": "885db0c5",
   "metadata": {},
   "outputs": [],
   "source": [
    "mdf = md.fit(method=['lbfgs'])"
   ]
  },
  {
   "cell_type": "code",
   "execution_count": 53,
   "id": "414b58e6",
   "metadata": {},
   "outputs": [
    {
     "name": "stdout",
     "output_type": "stream",
     "text": [
      "         Mixed Linear Model Regression Results\n",
      "========================================================\n",
      "Model:            MixedLM Dependent Variable: Weight    \n",
      "No. Observations: 861     Method:             REML      \n",
      "No. Groups:       72      Scale:              11.3669   \n",
      "Min. group size:  11      Log-Likelihood:     -2404.7753\n",
      "Max. group size:  12      Converged:          Yes       \n",
      "Mean group size:  12.0                                  \n",
      "--------------------------------------------------------\n",
      "             Coef.  Std.Err.    z    P>|z| [0.025 0.975]\n",
      "--------------------------------------------------------\n",
      "Intercept    15.724    0.788  19.952 0.000 14.179 17.268\n",
      "Time          6.943    0.033 207.939 0.000  6.877  7.008\n",
      "Group Var    40.395    2.149                            \n",
      "========================================================\n",
      "\n"
     ]
    }
   ],
   "source": [
    "print(mdf.summary())"
   ]
  },
  {
   "cell_type": "code",
   "execution_count": 54,
   "id": "652ef290",
   "metadata": {},
   "outputs": [
    {
     "data": {
      "text/plain": [
       "Intercept    15.723523\n",
       "Time          6.942505\n",
       "Group Var     3.553717\n",
       "dtype: float64"
      ]
     },
     "execution_count": 54,
     "metadata": {},
     "output_type": "execute_result"
    }
   ],
   "source": [
    "mdf.params"
   ]
  },
  {
   "cell_type": "markdown",
   "id": "83335495",
   "metadata": {},
   "source": [
    "## Previous Attempts at Groupby "
   ]
  },
  {
   "cell_type": "markdown",
   "id": "26347ce4",
   "metadata": {},
   "source": [
    "Previous attempts trying to groupby `School` & `subgroup` -> `LinearRegression()` on each group "
   ]
  },
  {
   "cell_type": "code",
   "execution_count": null,
   "id": "dd92b252",
   "metadata": {},
   "outputs": [],
   "source": [
    "#shared_cols = ['entity_cd','entity_name','year','subgroup_name']"
   ]
  },
  {
   "cell_type": "code",
   "execution_count": null,
   "id": "1c906922",
   "metadata": {},
   "outputs": [],
   "source": [
    "#nys_grad_rate_22.groupby(['entity_name','subgroup_name']).last()[95:103]"
   ]
  },
  {
   "cell_type": "code",
   "execution_count": null,
   "id": "a198b167",
   "metadata": {},
   "outputs": [],
   "source": [
    "#shared_cols"
   ]
  },
  {
   "cell_type": "code",
   "execution_count": null,
   "id": "a54ad514",
   "metadata": {},
   "outputs": [],
   "source": [
    "#pd.merge(pd.merge(nys_annual_regents,nys_grad_rate_22,how='inner',on=shared_cols),nys_absenteeism_df,\n",
    "#        how='inner',on=shared_cols)"
   ]
  },
  {
   "cell_type": "code",
   "execution_count": null,
   "id": "6142b4c4",
   "metadata": {},
   "outputs": [],
   "source": [
    "#pd.merge(pd.merge(nys_absenteeism_df,nys_assessment_df, on = shared_cols),nys_grad_rate_df, on = shared_cols)"
   ]
  },
  {
   "cell_type": "code",
   "execution_count": null,
   "id": "f085881a",
   "metadata": {},
   "outputs": [],
   "source": [
    "#nys_final_df = pd.merge(nys_absenteeism_df,nys_grad_rate_df,how='inner',on=['entity_cd','entity_name','year','subgroup_name'])"
   ]
  },
  {
   "cell_type": "code",
   "execution_count": null,
   "id": "0287a2ef",
   "metadata": {},
   "outputs": [],
   "source": [
    "#nys_final_df"
   ]
  },
  {
   "cell_type": "code",
   "execution_count": null,
   "id": "020e36c0",
   "metadata": {},
   "outputs": [],
   "source": [
    "#nys_final_df = nys_final_df[nys_final_df.grad_count.str.contains('s')==False]\n",
    "#nys_final_df = nys_final_df[nys_final_df.absent_count.str.contains('s') == False]"
   ]
  },
  {
   "cell_type": "code",
   "execution_count": null,
   "id": "e70d0464",
   "metadata": {},
   "outputs": [],
   "source": [
    "#nys_final_df"
   ]
  },
  {
   "cell_type": "code",
   "execution_count": null,
   "id": "4ed531d9",
   "metadata": {},
   "outputs": [],
   "source": [
    "#copy_1[copy_1.cohort == '6-Year']"
   ]
  },
  {
   "cell_type": "code",
   "execution_count": null,
   "id": "eda60a71",
   "metadata": {},
   "outputs": [],
   "source": [
    "#copy_2[copy_2.membership_desc.str.contains('6')]"
   ]
  },
  {
   "cell_type": "code",
   "execution_count": null,
   "id": "e1973f16",
   "metadata": {
    "scrolled": true
   },
   "outputs": [],
   "source": [
    "#nys_grad_rate_df"
   ]
  }
 ],
 "metadata": {
  "kernelspec": {
   "display_name": "Python (nys-ell-grads)",
   "language": "python",
   "name": "nys-ell-gradrate"
  },
  "language_info": {
   "codemirror_mode": {
    "name": "ipython",
    "version": 3
   },
   "file_extension": ".py",
   "mimetype": "text/x-python",
   "name": "python",
   "nbconvert_exporter": "python",
   "pygments_lexer": "ipython3",
   "version": "3.11.4"
  }
 },
 "nbformat": 4,
 "nbformat_minor": 5
}
