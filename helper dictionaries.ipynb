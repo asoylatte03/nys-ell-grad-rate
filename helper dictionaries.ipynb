{
 "cells": [
  {
   "cell_type": "code",
   "execution_count": 2,
   "id": "c48cbeb6",
   "metadata": {},
   "outputs": [],
   "source": [
    "# standard imports \n",
    "import pandas as pd \n",
    "import numpy as np "
   ]
  },
  {
   "cell_type": "code",
   "execution_count": 3,
   "id": "34235080",
   "metadata": {},
   "outputs": [
    {
     "name": "stdout",
     "output_type": "stream",
     "text": [
      "ACC HS Chronic Absenteeism.xlsx\n",
      "ACC HS Graduation Rate.xlsx\n",
      "Annual Regents Exams.xlsx\n",
      "BOCES and N_RC.xlsx\n",
      "GRAD_RATE_AND_OUTCOMES_2022.csv\n",
      "nys-ann_regents-reduc.csv\n"
     ]
    }
   ],
   "source": [
    "!ls \"raw data\""
   ]
  },
  {
   "cell_type": "code",
   "execution_count": 4,
   "id": "dce630c4",
   "metadata": {},
   "outputs": [],
   "source": [
    "n_rc_df = pd.read_excel(\"raw data/BOCES and N_RC.xlsx\", dtype={\"ENTITY_CD\":\"str\"})"
   ]
  },
  {
   "cell_type": "code",
   "execution_count": 5,
   "id": "51fedb3e",
   "metadata": {},
   "outputs": [],
   "source": [
    "n_rc_df.columns = n_rc_df.columns.str.lower()\n",
    "n_rc_df = n_rc_df[['entity_cd', 'school_name', 'year', 'district_cd', 'district_name', \n",
    "                   'county_name', 'needs_index']].copy()"
   ]
  },
  {
   "cell_type": "code",
   "execution_count": 6,
   "id": "d4f6d99e",
   "metadata": {},
   "outputs": [],
   "source": [
    "# normalizing strings\n",
    "n_rc_df.school_name = n_rc_df.school_name.str.title()\n",
    "n_rc_df.district_name = n_rc_df.district_name.str.title()\n",
    "n_rc_df.county_name = n_rc_df.county_name.str.title()"
   ]
  },
  {
   "cell_type": "code",
   "execution_count": 7,
   "id": "bdeb65fb",
   "metadata": {},
   "outputs": [
    {
     "data": {
      "text/html": [
       "<div>\n",
       "<style scoped>\n",
       "    .dataframe tbody tr th:only-of-type {\n",
       "        vertical-align: middle;\n",
       "    }\n",
       "\n",
       "    .dataframe tbody tr th {\n",
       "        vertical-align: top;\n",
       "    }\n",
       "\n",
       "    .dataframe thead th {\n",
       "        text-align: right;\n",
       "    }\n",
       "</style>\n",
       "<table border=\"1\" class=\"dataframe\">\n",
       "  <thead>\n",
       "    <tr style=\"text-align: right;\">\n",
       "      <th></th>\n",
       "      <th>entity_cd</th>\n",
       "      <th>school_name</th>\n",
       "      <th>year</th>\n",
       "      <th>district_cd</th>\n",
       "      <th>district_name</th>\n",
       "      <th>county_name</th>\n",
       "      <th>needs_index</th>\n",
       "    </tr>\n",
       "  </thead>\n",
       "  <tbody>\n",
       "    <tr>\n",
       "      <th>7</th>\n",
       "      <td>010100860907</td>\n",
       "      <td>Green Tech High Charter School</td>\n",
       "      <td>2020</td>\n",
       "      <td>NaN</td>\n",
       "      <td>NaN</td>\n",
       "      <td>Albany</td>\n",
       "      <td>7</td>\n",
       "    </tr>\n",
       "    <tr>\n",
       "      <th>8</th>\n",
       "      <td>010100860960</td>\n",
       "      <td>Albany Leadership Charter High School For Girls</td>\n",
       "      <td>2020</td>\n",
       "      <td>NaN</td>\n",
       "      <td>NaN</td>\n",
       "      <td>Albany</td>\n",
       "      <td>7</td>\n",
       "    </tr>\n",
       "    <tr>\n",
       "      <th>244</th>\n",
       "      <td>070600861078</td>\n",
       "      <td>Finn Academy-An Elmira Charter Schoo</td>\n",
       "      <td>2020</td>\n",
       "      <td>NaN</td>\n",
       "      <td>NaN</td>\n",
       "      <td>Chemung</td>\n",
       "      <td>7</td>\n",
       "    </tr>\n",
       "    <tr>\n",
       "      <th>336</th>\n",
       "      <td>110701861172</td>\n",
       "      <td>Truxton Academy Charter School</td>\n",
       "      <td>2020</td>\n",
       "      <td>NaN</td>\n",
       "      <td>NaN</td>\n",
       "      <td>Cortland</td>\n",
       "      <td>7</td>\n",
       "    </tr>\n",
       "    <tr>\n",
       "      <th>522</th>\n",
       "      <td>140600860814</td>\n",
       "      <td>King Center Charter School</td>\n",
       "      <td>2020</td>\n",
       "      <td>NaN</td>\n",
       "      <td>NaN</td>\n",
       "      <td>Erie</td>\n",
       "      <td>7</td>\n",
       "    </tr>\n",
       "    <tr>\n",
       "      <th>...</th>\n",
       "      <td>...</td>\n",
       "      <td>...</td>\n",
       "      <td>...</td>\n",
       "      <td>...</td>\n",
       "      <td>...</td>\n",
       "      <td>...</td>\n",
       "      <td>...</td>\n",
       "    </tr>\n",
       "    <tr>\n",
       "      <th>13187</th>\n",
       "      <td>491700860931</td>\n",
       "      <td>Kipp Troy Prep Charter School</td>\n",
       "      <td>2022</td>\n",
       "      <td>NaN</td>\n",
       "      <td>NaN</td>\n",
       "      <td>Rensselaer</td>\n",
       "      <td>7</td>\n",
       "    </tr>\n",
       "    <tr>\n",
       "      <th>13726</th>\n",
       "      <td>580602860032</td>\n",
       "      <td>Riverhead Charter School</td>\n",
       "      <td>2022</td>\n",
       "      <td>NaN</td>\n",
       "      <td>NaN</td>\n",
       "      <td>Suffolk</td>\n",
       "      <td>7</td>\n",
       "    </tr>\n",
       "    <tr>\n",
       "      <th>13833</th>\n",
       "      <td>610600860944</td>\n",
       "      <td>New Roots Charter School</td>\n",
       "      <td>2022</td>\n",
       "      <td>NaN</td>\n",
       "      <td>NaN</td>\n",
       "      <td>Tompkins</td>\n",
       "      <td>7</td>\n",
       "    </tr>\n",
       "    <tr>\n",
       "      <th>14083</th>\n",
       "      <td>660900861000</td>\n",
       "      <td>Amani Public Charter School</td>\n",
       "      <td>2022</td>\n",
       "      <td>NaN</td>\n",
       "      <td>NaN</td>\n",
       "      <td>Westchester</td>\n",
       "      <td>7</td>\n",
       "    </tr>\n",
       "    <tr>\n",
       "      <th>14203</th>\n",
       "      <td>662300860862</td>\n",
       "      <td>Charter Sch-Educ Excellence</td>\n",
       "      <td>2022</td>\n",
       "      <td>NaN</td>\n",
       "      <td>NaN</td>\n",
       "      <td>Westchester</td>\n",
       "      <td>7</td>\n",
       "    </tr>\n",
       "  </tbody>\n",
       "</table>\n",
       "<p>971 rows × 7 columns</p>\n",
       "</div>"
      ],
      "text/plain": [
       "          entity_cd                                      school_name  year  \\\n",
       "7      010100860907                   Green Tech High Charter School  2020   \n",
       "8      010100860960  Albany Leadership Charter High School For Girls  2020   \n",
       "244    070600861078             Finn Academy-An Elmira Charter Schoo  2020   \n",
       "336    110701861172                   Truxton Academy Charter School  2020   \n",
       "522    140600860814                       King Center Charter School  2020   \n",
       "...             ...                                              ...   ...   \n",
       "13187  491700860931                    Kipp Troy Prep Charter School  2022   \n",
       "13726  580602860032                         Riverhead Charter School  2022   \n",
       "13833  610600860944                         New Roots Charter School  2022   \n",
       "14083  660900861000                      Amani Public Charter School  2022   \n",
       "14203  662300860862                      Charter Sch-Educ Excellence  2022   \n",
       "\n",
       "       district_cd district_name  county_name  needs_index  \n",
       "7              NaN           NaN       Albany            7  \n",
       "8              NaN           NaN       Albany            7  \n",
       "244            NaN           NaN      Chemung            7  \n",
       "336            NaN           NaN     Cortland            7  \n",
       "522            NaN           NaN         Erie            7  \n",
       "...            ...           ...          ...          ...  \n",
       "13187          NaN           NaN   Rensselaer            7  \n",
       "13726          NaN           NaN      Suffolk            7  \n",
       "13833          NaN           NaN     Tompkins            7  \n",
       "14083          NaN           NaN  Westchester            7  \n",
       "14203          NaN           NaN  Westchester            7  \n",
       "\n",
       "[971 rows x 7 columns]"
      ]
     },
     "execution_count": 7,
     "metadata": {},
     "output_type": "execute_result"
    }
   ],
   "source": [
    "n_rc_df[n_rc_df.needs_index == 7]"
   ]
  },
  {
   "cell_type": "code",
   "execution_count": 8,
   "id": "53157b98",
   "metadata": {},
   "outputs": [],
   "source": [
    "district_df = n_rc_df[['entity_cd', 'district_name']]\n",
    "district_df = district_df.set_index('entity_cd')\n",
    "district_dict = district_df.to_dict()\n",
    "district_dict = district_dict[\"district_name\"]"
   ]
  },
  {
   "cell_type": "code",
   "execution_count": 9,
   "id": "cd0a8e12",
   "metadata": {},
   "outputs": [],
   "source": [
    "# creating a helper dictionary for need-to-resource capacity categories \n",
    "nrc_index = n_rc_df[['district_name','needs_index']]\n",
    "nrc_index = nrc_index.drop_duplicates()\n",
    "nrc_index = nrc_index.set_index('district_name')\n",
    "nrc_lookup = nrc_index.to_dict()\n",
    "nrc_lookup = nrc_lookup['needs_index']"
   ]
  },
  {
   "cell_type": "code",
   "execution_count": 10,
   "id": "7860ae4e",
   "metadata": {},
   "outputs": [],
   "source": [
    "counties = n_rc_df[['entity_cd','county_name']]\n",
    "counties = counties.set_index('entity_cd')\n",
    "county_lookup = counties.to_dict()\n",
    "county_lookup = county_lookup['county_name']"
   ]
  },
  {
   "cell_type": "code",
   "execution_count": 11,
   "id": "ba29a170",
   "metadata": {},
   "outputs": [],
   "source": [
    "nys_grads_df = pd.read_csv(\"data/2022_NYS_grad-rate.csv\",dtype={\"entity_cd\":\"str\"})"
   ]
  },
  {
   "cell_type": "code",
   "execution_count": 12,
   "id": "815ca928",
   "metadata": {},
   "outputs": [],
   "source": [
    "nys_grads_df['district_cd'] = nys_grads_df['entity_cd']\n",
    "nys_grads_df['district_cd'] = nys_grads_df['district_cd'].map(district_dict)"
   ]
  },
  {
   "cell_type": "code",
   "execution_count": 13,
   "id": "7384aaeb",
   "metadata": {},
   "outputs": [],
   "source": [
    "nys_grads_df['district_nrc'] = nys_grads_df['district_cd']\n",
    "nys_grads_df['district_nrc'] = nys_grads_df['district_nrc'].map(nrc_lookup)"
   ]
  },
  {
   "cell_type": "code",
   "execution_count": 14,
   "id": "b9b7b975",
   "metadata": {},
   "outputs": [],
   "source": [
    "nys_grads_df['county_cd'] = nys_grads_df['entity_cd']\n",
    "nys_grads_df['county_cd'] = nys_grads_df['county_cd'].map(county_lookup)"
   ]
  },
  {
   "cell_type": "code",
   "execution_count": 15,
   "id": "91a3488f",
   "metadata": {},
   "outputs": [
    {
     "data": {
      "text/plain": [
       "1    1961\n",
       "5    1136\n",
       "6     548\n",
       "4     344\n",
       "7     246\n",
       "3     235\n",
       "2     210\n",
       "Name: district_nrc, dtype: int64"
      ]
     },
     "execution_count": 15,
     "metadata": {},
     "output_type": "execute_result"
    }
   ],
   "source": [
    "nys_grads_df.district_nrc.value_counts()"
   ]
  },
  {
   "cell_type": "code",
   "execution_count": 16,
   "id": "3b02145f",
   "metadata": {
    "scrolled": false
   },
   "outputs": [
    {
     "data": {
      "text/html": [
       "<div>\n",
       "<style scoped>\n",
       "    .dataframe tbody tr th:only-of-type {\n",
       "        vertical-align: middle;\n",
       "    }\n",
       "\n",
       "    .dataframe tbody tr th {\n",
       "        vertical-align: top;\n",
       "    }\n",
       "\n",
       "    .dataframe thead th {\n",
       "        text-align: right;\n",
       "    }\n",
       "</style>\n",
       "<table border=\"1\" class=\"dataframe\">\n",
       "  <thead>\n",
       "    <tr style=\"text-align: right;\">\n",
       "      <th></th>\n",
       "      <th>entity_cd</th>\n",
       "      <th>entity_name</th>\n",
       "      <th>year</th>\n",
       "      <th>subgroup_name</th>\n",
       "      <th>grad_rate</th>\n",
       "      <th>district_cd</th>\n",
       "      <th>district_nrc</th>\n",
       "      <th>county_cd</th>\n",
       "    </tr>\n",
       "  </thead>\n",
       "  <tbody>\n",
       "    <tr>\n",
       "      <th>8</th>\n",
       "      <td>010100860907</td>\n",
       "      <td>Green Tech High Charter School</td>\n",
       "      <td>2022</td>\n",
       "      <td>Economically Disadvantaged</td>\n",
       "      <td>86.2</td>\n",
       "      <td>NaN</td>\n",
       "      <td>7</td>\n",
       "      <td>Albany</td>\n",
       "    </tr>\n",
       "    <tr>\n",
       "      <th>17</th>\n",
       "      <td>010100860907</td>\n",
       "      <td>Green Tech High Charter School</td>\n",
       "      <td>2022</td>\n",
       "      <td>Black or African American</td>\n",
       "      <td>90.5</td>\n",
       "      <td>NaN</td>\n",
       "      <td>7</td>\n",
       "      <td>Albany</td>\n",
       "    </tr>\n",
       "    <tr>\n",
       "      <th>18</th>\n",
       "      <td>010100860960</td>\n",
       "      <td>Albany Leadership Cs-Girls</td>\n",
       "      <td>2022</td>\n",
       "      <td>Hispanic or Latino</td>\n",
       "      <td>88.9</td>\n",
       "      <td>NaN</td>\n",
       "      <td>7</td>\n",
       "      <td>Albany</td>\n",
       "    </tr>\n",
       "    <tr>\n",
       "      <th>19</th>\n",
       "      <td>010100860960</td>\n",
       "      <td>Albany Leadership Cs-Girls</td>\n",
       "      <td>2022</td>\n",
       "      <td>Economically Disadvantaged</td>\n",
       "      <td>91.9</td>\n",
       "      <td>NaN</td>\n",
       "      <td>7</td>\n",
       "      <td>Albany</td>\n",
       "    </tr>\n",
       "    <tr>\n",
       "      <th>20</th>\n",
       "      <td>010100860960</td>\n",
       "      <td>Albany Leadership Cs-Girls</td>\n",
       "      <td>2022</td>\n",
       "      <td>Black or African American</td>\n",
       "      <td>86.6</td>\n",
       "      <td>NaN</td>\n",
       "      <td>7</td>\n",
       "      <td>Albany</td>\n",
       "    </tr>\n",
       "    <tr>\n",
       "      <th>...</th>\n",
       "      <td>...</td>\n",
       "      <td>...</td>\n",
       "      <td>...</td>\n",
       "      <td>...</td>\n",
       "      <td>...</td>\n",
       "      <td>...</td>\n",
       "      <td>...</td>\n",
       "      <td>...</td>\n",
       "    </tr>\n",
       "    <tr>\n",
       "      <th>3561</th>\n",
       "      <td>421800860854</td>\n",
       "      <td>Syracuse Academy Of Science Cs</td>\n",
       "      <td>2022</td>\n",
       "      <td>White</td>\n",
       "      <td>100.0</td>\n",
       "      <td>NaN</td>\n",
       "      <td>7</td>\n",
       "      <td>Onondaga</td>\n",
       "    </tr>\n",
       "    <tr>\n",
       "      <th>3562</th>\n",
       "      <td>421800860854</td>\n",
       "      <td>Syracuse Academy Of Science Cs</td>\n",
       "      <td>2022</td>\n",
       "      <td>Economically Disadvantaged</td>\n",
       "      <td>97.2</td>\n",
       "      <td>NaN</td>\n",
       "      <td>7</td>\n",
       "      <td>Onondaga</td>\n",
       "    </tr>\n",
       "    <tr>\n",
       "      <th>3563</th>\n",
       "      <td>421800860854</td>\n",
       "      <td>Syracuse Academy Of Science Cs</td>\n",
       "      <td>2022</td>\n",
       "      <td>Black or African American</td>\n",
       "      <td>100.0</td>\n",
       "      <td>NaN</td>\n",
       "      <td>7</td>\n",
       "      <td>Onondaga</td>\n",
       "    </tr>\n",
       "    <tr>\n",
       "      <th>4339</th>\n",
       "      <td>610600860944</td>\n",
       "      <td>New Roots Charter School</td>\n",
       "      <td>2022</td>\n",
       "      <td>Economically Disadvantaged</td>\n",
       "      <td>82.8</td>\n",
       "      <td>NaN</td>\n",
       "      <td>7</td>\n",
       "      <td>Tompkins</td>\n",
       "    </tr>\n",
       "    <tr>\n",
       "      <th>4340</th>\n",
       "      <td>610600860944</td>\n",
       "      <td>New Roots Charter School</td>\n",
       "      <td>2022</td>\n",
       "      <td>White</td>\n",
       "      <td>87.8</td>\n",
       "      <td>NaN</td>\n",
       "      <td>7</td>\n",
       "      <td>Tompkins</td>\n",
       "    </tr>\n",
       "  </tbody>\n",
       "</table>\n",
       "<p>246 rows × 8 columns</p>\n",
       "</div>"
      ],
      "text/plain": [
       "         entity_cd                     entity_name  year  \\\n",
       "8     010100860907  Green Tech High Charter School  2022   \n",
       "17    010100860907  Green Tech High Charter School  2022   \n",
       "18    010100860960      Albany Leadership Cs-Girls  2022   \n",
       "19    010100860960      Albany Leadership Cs-Girls  2022   \n",
       "20    010100860960      Albany Leadership Cs-Girls  2022   \n",
       "...            ...                             ...   ...   \n",
       "3561  421800860854  Syracuse Academy Of Science Cs  2022   \n",
       "3562  421800860854  Syracuse Academy Of Science Cs  2022   \n",
       "3563  421800860854  Syracuse Academy Of Science Cs  2022   \n",
       "4339  610600860944        New Roots Charter School  2022   \n",
       "4340  610600860944        New Roots Charter School  2022   \n",
       "\n",
       "                   subgroup_name  grad_rate district_cd  district_nrc  \\\n",
       "8     Economically Disadvantaged       86.2         NaN             7   \n",
       "17     Black or African American       90.5         NaN             7   \n",
       "18            Hispanic or Latino       88.9         NaN             7   \n",
       "19    Economically Disadvantaged       91.9         NaN             7   \n",
       "20     Black or African American       86.6         NaN             7   \n",
       "...                          ...        ...         ...           ...   \n",
       "3561                       White      100.0         NaN             7   \n",
       "3562  Economically Disadvantaged       97.2         NaN             7   \n",
       "3563   Black or African American      100.0         NaN             7   \n",
       "4339  Economically Disadvantaged       82.8         NaN             7   \n",
       "4340                       White       87.8         NaN             7   \n",
       "\n",
       "     county_cd  \n",
       "8       Albany  \n",
       "17      Albany  \n",
       "18      Albany  \n",
       "19      Albany  \n",
       "20      Albany  \n",
       "...        ...  \n",
       "3561  Onondaga  \n",
       "3562  Onondaga  \n",
       "3563  Onondaga  \n",
       "4339  Tompkins  \n",
       "4340  Tompkins  \n",
       "\n",
       "[246 rows x 8 columns]"
      ]
     },
     "execution_count": 16,
     "metadata": {},
     "output_type": "execute_result"
    }
   ],
   "source": [
    "nys_grads_df[nys_grads_df.district_cd.isna()]"
   ]
  },
  {
   "cell_type": "code",
   "execution_count": 17,
   "id": "8480319e",
   "metadata": {},
   "outputs": [
    {
     "ename": "NameError",
     "evalue": "name 'charters_df' is not defined",
     "output_type": "error",
     "traceback": [
      "\u001b[1;31m---------------------------------------------------------------------------\u001b[0m",
      "\u001b[1;31mNameError\u001b[0m                                 Traceback (most recent call last)",
      "Cell \u001b[1;32mIn[17], line 1\u001b[0m\n\u001b[1;32m----> 1\u001b[0m charters_df\u001b[38;5;241m.\u001b[39mentity_cd \u001b[38;5;241m=\u001b[39m charters_df\u001b[38;5;241m.\u001b[39mentity_cd\u001b[38;5;241m.\u001b[39mastype(\u001b[38;5;124m'\u001b[39m\u001b[38;5;124mstring\u001b[39m\u001b[38;5;124m'\u001b[39m)\n\u001b[0;32m      2\u001b[0m charters_df[\u001b[38;5;124m\"\u001b[39m\u001b[38;5;124mcharter_cd\u001b[39m\u001b[38;5;124m\"\u001b[39m] \u001b[38;5;241m=\u001b[39m charters_df\u001b[38;5;241m.\u001b[39mentity_cd\u001b[38;5;241m.\u001b[39mstr[\u001b[38;5;241m6\u001b[39m:\u001b[38;5;241m8\u001b[39m]\n",
      "\u001b[1;31mNameError\u001b[0m: name 'charters_df' is not defined"
     ]
    }
   ],
   "source": [
    "charters_df.entity_cd = charters_df.entity_cd.astype('string')\n",
    "charters_df[\"charter_cd\"] = charters_df.entity_cd.str[6:8]"
   ]
  },
  {
   "cell_type": "code",
   "execution_count": null,
   "id": "a49620e8",
   "metadata": {},
   "outputs": [],
   "source": [
    "charters_df"
   ]
  },
  {
   "cell_type": "code",
   "execution_count": null,
   "id": "a2a606ea",
   "metadata": {},
   "outputs": [],
   "source": [
    "number = '010100860907'"
   ]
  },
  {
   "cell_type": "code",
   "execution_count": 30,
   "id": "4e5b368f",
   "metadata": {},
   "outputs": [
    {
     "ename": "NameError",
     "evalue": "name 'district' is not defined",
     "output_type": "error",
     "traceback": [
      "\u001b[1;31m---------------------------------------------------------------------------\u001b[0m",
      "\u001b[1;31mNameError\u001b[0m                                 Traceback (most recent call last)",
      "Cell \u001b[1;32mIn[30], line 1\u001b[0m\n\u001b[1;32m----> 1\u001b[0m district\n",
      "\u001b[1;31mNameError\u001b[0m: name 'district' is not defined"
     ]
    }
   ],
   "source": [
    "district"
   ]
  },
  {
   "cell_type": "code",
   "execution_count": null,
   "id": "ddc39f5e",
   "metadata": {},
   "outputs": [],
   "source": [
    "len(nys_grads_df.district_cd.unique())"
   ]
  },
  {
   "cell_type": "code",
   "execution_count": 26,
   "id": "7f247b54",
   "metadata": {},
   "outputs": [],
   "source": [
    "nys_grads_df = nys_grads_df.fillna('Charter School')"
   ]
  },
  {
   "cell_type": "code",
   "execution_count": 33,
   "id": "cacd886f",
   "metadata": {},
   "outputs": [],
   "source": [
    "nys_grads_df = nys_grads_df.rename(columns={'entity_name':'school',\n",
    "                            'subgroup_name':'subgroup',\n",
    "                            'district_cd':'district',\n",
    "                            'district_nrc':'nrc_index',\n",
    "                            'county_cd':'county'})"
   ]
  },
  {
   "cell_type": "code",
   "execution_count": 37,
   "id": "9b87849e",
   "metadata": {},
   "outputs": [],
   "source": [
    "nys_grads_df = nys_grads_df[['entity_cd','county','district','nrc_index','school','year','subgroup','grad_rate']]"
   ]
  },
  {
   "cell_type": "code",
   "execution_count": 44,
   "id": "f75de967",
   "metadata": {
    "scrolled": false
   },
   "outputs": [],
   "source": [
    "nys_grads_df.to_csv(\"data/2022_nys_gradrates_compiled.csv\",index=False)"
   ]
  },
  {
   "cell_type": "code",
   "execution_count": 43,
   "id": "f15aa3de",
   "metadata": {},
   "outputs": [
    {
     "name": "stdout",
     "output_type": "stream",
     "text": [
      "2022_NYS_grad-rate.csv\n",
      "2022_nys_gradrates_compiled.csv\n",
      "cohort_gradrates_22\n"
     ]
    }
   ],
   "source": [
    "!ls data"
   ]
  },
  {
   "cell_type": "code",
   "execution_count": null,
   "id": "bc12ec2f",
   "metadata": {},
   "outputs": [],
   "source": []
  }
 ],
 "metadata": {
  "kernelspec": {
   "display_name": "Python (nys-ells-proj)",
   "language": "python",
   "name": "ny-ells-project"
  },
  "language_info": {
   "codemirror_mode": {
    "name": "ipython",
    "version": 3
   },
   "file_extension": ".py",
   "mimetype": "text/x-python",
   "name": "python",
   "nbconvert_exporter": "python",
   "pygments_lexer": "ipython3",
   "version": "3.11.4"
  }
 },
 "nbformat": 4,
 "nbformat_minor": 5
}
