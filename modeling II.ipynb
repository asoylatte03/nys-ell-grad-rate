{
 "cells": [
  {
   "cell_type": "markdown",
   "id": "8d3b79fc",
   "metadata": {},
   "source": [
    "# Modeling II"
   ]
  },
  {
   "cell_type": "code",
   "execution_count": 180,
   "id": "d3c6d57d",
   "metadata": {},
   "outputs": [],
   "source": [
    "# imports \n",
    "import pandas as pd \n",
    "import numpy as np \n",
    "from numpy import asarray\n",
    "#import pymc as pm \n",
    "\n",
    "# visualizations\n",
    "import matplotlib.pyplot as plt \n",
    "from matplotlib import style \n",
    "%matplotlib inline \n",
    "import seaborn as sns \n",
    "style.use('fivethirtyeight')\n",
    "\n",
    "# stats\n",
    "import statsmodels.api as sm \n",
    "import statsmodels.formula.api as smf\n",
    "\n",
    "# modeling \n",
    "from sklearn.linear_model import LinearRegression\n",
    "\n",
    "# transformers \n",
    "from sklearn.model_selection import train_test_split\n",
    "from sklearn.preprocessing import OrdinalEncoder\n",
    "from sklearn.preprocessing import LabelEncoder\n",
    "from sklearn.pipeline import Pipeline \n",
    "from sklearn.compose import ColumnTransformer\n",
    "\n",
    "# evaluation metrics \n",
    "from sklearn.metrics import mean_absolute_error\n",
    "from sklearn.metrics import mean_squared_error\n",
    "\n",
    "# run time \n",
    "from datetime import datetime as dt"
   ]
  },
  {
   "cell_type": "code",
   "execution_count": 35,
   "id": "f357ad57",
   "metadata": {},
   "outputs": [],
   "source": [
    "cohort_grads = pd.read_csv('data/cohort_gradrates_22',dtype={'entity_cd':'str'})"
   ]
  },
  {
   "cell_type": "code",
   "execution_count": 36,
   "id": "35c9c3ae",
   "metadata": {},
   "outputs": [
    {
     "data": {
      "text/html": [
       "<div>\n",
       "<style scoped>\n",
       "    .dataframe tbody tr th:only-of-type {\n",
       "        vertical-align: middle;\n",
       "    }\n",
       "\n",
       "    .dataframe tbody tr th {\n",
       "        vertical-align: top;\n",
       "    }\n",
       "\n",
       "    .dataframe thead th {\n",
       "        text-align: right;\n",
       "    }\n",
       "</style>\n",
       "<table border=\"1\" class=\"dataframe\">\n",
       "  <thead>\n",
       "    <tr style=\"text-align: right;\">\n",
       "      <th></th>\n",
       "      <th>entity_cd</th>\n",
       "      <th>entity_name</th>\n",
       "      <th>year</th>\n",
       "      <th>subgroup_name</th>\n",
       "      <th>cohort</th>\n",
       "      <th>grad_rate</th>\n",
       "    </tr>\n",
       "  </thead>\n",
       "  <tbody>\n",
       "    <tr>\n",
       "      <th>0</th>\n",
       "      <td>010100010034</td>\n",
       "      <td>Albany High School</td>\n",
       "      <td>2022</td>\n",
       "      <td>Hispanic or Latino</td>\n",
       "      <td>6-Year</td>\n",
       "      <td>75.9</td>\n",
       "    </tr>\n",
       "    <tr>\n",
       "      <th>1</th>\n",
       "      <td>010100010034</td>\n",
       "      <td>Albany High School</td>\n",
       "      <td>2022</td>\n",
       "      <td>English Language Learner</td>\n",
       "      <td>4-Year</td>\n",
       "      <td>78.7</td>\n",
       "    </tr>\n",
       "    <tr>\n",
       "      <th>2</th>\n",
       "      <td>010100010034</td>\n",
       "      <td>Albany High School</td>\n",
       "      <td>2022</td>\n",
       "      <td>White</td>\n",
       "      <td>4-Year</td>\n",
       "      <td>86.6</td>\n",
       "    </tr>\n",
       "    <tr>\n",
       "      <th>3</th>\n",
       "      <td>010100010034</td>\n",
       "      <td>Albany High School</td>\n",
       "      <td>2022</td>\n",
       "      <td>White</td>\n",
       "      <td>5-Year</td>\n",
       "      <td>84.1</td>\n",
       "    </tr>\n",
       "    <tr>\n",
       "      <th>4</th>\n",
       "      <td>010100010034</td>\n",
       "      <td>Albany High School</td>\n",
       "      <td>2022</td>\n",
       "      <td>White</td>\n",
       "      <td>6-Year</td>\n",
       "      <td>89.9</td>\n",
       "    </tr>\n",
       "  </tbody>\n",
       "</table>\n",
       "</div>"
      ],
      "text/plain": [
       "      entity_cd         entity_name  year             subgroup_name  cohort  \\\n",
       "0  010100010034  Albany High School  2022        Hispanic or Latino  6-Year   \n",
       "1  010100010034  Albany High School  2022  English Language Learner  4-Year   \n",
       "2  010100010034  Albany High School  2022                     White  4-Year   \n",
       "3  010100010034  Albany High School  2022                     White  5-Year   \n",
       "4  010100010034  Albany High School  2022                     White  6-Year   \n",
       "\n",
       "   grad_rate  \n",
       "0       75.9  \n",
       "1       78.7  \n",
       "2       86.6  \n",
       "3       84.1  \n",
       "4       89.9  "
      ]
     },
     "execution_count": 36,
     "metadata": {},
     "output_type": "execute_result"
    }
   ],
   "source": [
    "cohort_grads.head()"
   ]
  },
  {
   "cell_type": "code",
   "execution_count": 37,
   "id": "ef50f568",
   "metadata": {},
   "outputs": [
    {
     "data": {
      "text/plain": [
       "(11982, 6)"
      ]
     },
     "execution_count": 37,
     "metadata": {},
     "output_type": "execute_result"
    }
   ],
   "source": [
    "cohort_grads.shape"
   ]
  },
  {
   "cell_type": "markdown",
   "id": "4010ee2d",
   "metadata": {},
   "source": [
    "## Multilinear Regression"
   ]
  },
  {
   "cell_type": "code",
   "execution_count": 76,
   "id": "05582375",
   "metadata": {},
   "outputs": [
    {
     "data": {
      "text/html": [
       "<div>\n",
       "<style scoped>\n",
       "    .dataframe tbody tr th:only-of-type {\n",
       "        vertical-align: middle;\n",
       "    }\n",
       "\n",
       "    .dataframe tbody tr th {\n",
       "        vertical-align: top;\n",
       "    }\n",
       "\n",
       "    .dataframe thead th {\n",
       "        text-align: right;\n",
       "    }\n",
       "</style>\n",
       "<table border=\"1\" class=\"dataframe\">\n",
       "  <thead>\n",
       "    <tr style=\"text-align: right;\">\n",
       "      <th></th>\n",
       "      <th>entity_cd</th>\n",
       "      <th>entity_name</th>\n",
       "      <th>year</th>\n",
       "      <th>subgroup_name</th>\n",
       "      <th>cohort</th>\n",
       "      <th>grad_rate</th>\n",
       "    </tr>\n",
       "  </thead>\n",
       "  <tbody>\n",
       "    <tr>\n",
       "      <th>0</th>\n",
       "      <td>10100010034</td>\n",
       "      <td>Albany High School</td>\n",
       "      <td>2022</td>\n",
       "      <td>0.158822</td>\n",
       "      <td>6-Year</td>\n",
       "      <td>75.9</td>\n",
       "    </tr>\n",
       "    <tr>\n",
       "      <th>1</th>\n",
       "      <td>10100010034</td>\n",
       "      <td>Albany High School</td>\n",
       "      <td>2022</td>\n",
       "      <td>0.051661</td>\n",
       "      <td>4-Year</td>\n",
       "      <td>78.7</td>\n",
       "    </tr>\n",
       "    <tr>\n",
       "      <th>2</th>\n",
       "      <td>10100010034</td>\n",
       "      <td>Albany High School</td>\n",
       "      <td>2022</td>\n",
       "      <td>0.184026</td>\n",
       "      <td>4-Year</td>\n",
       "      <td>86.6</td>\n",
       "    </tr>\n",
       "    <tr>\n",
       "      <th>3</th>\n",
       "      <td>10100010034</td>\n",
       "      <td>Albany High School</td>\n",
       "      <td>2022</td>\n",
       "      <td>0.184026</td>\n",
       "      <td>5-Year</td>\n",
       "      <td>84.1</td>\n",
       "    </tr>\n",
       "    <tr>\n",
       "      <th>4</th>\n",
       "      <td>10100010034</td>\n",
       "      <td>Albany High School</td>\n",
       "      <td>2022</td>\n",
       "      <td>0.184026</td>\n",
       "      <td>6-Year</td>\n",
       "      <td>89.9</td>\n",
       "    </tr>\n",
       "  </tbody>\n",
       "</table>\n",
       "</div>"
      ],
      "text/plain": [
       "     entity_cd         entity_name  year  subgroup_name  cohort  grad_rate\n",
       "0  10100010034  Albany High School  2022       0.158822  6-Year       75.9\n",
       "1  10100010034  Albany High School  2022       0.051661  4-Year       78.7\n",
       "2  10100010034  Albany High School  2022       0.184026  4-Year       86.6\n",
       "3  10100010034  Albany High School  2022       0.184026  5-Year       84.1\n",
       "4  10100010034  Albany High School  2022       0.184026  6-Year       89.9"
      ]
     },
     "execution_count": 76,
     "metadata": {},
     "output_type": "execute_result"
    }
   ],
   "source": [
    "# instead of OHE, to reduce dimensionality, going to use frequency encode\n",
    "subgroup_norm = cohort_grads.groupby('subgroup_name').size() / len(cohort_grads)\n",
    "\n",
    "# creating a copy of cohort grad rates \n",
    "gradrate_df = cohort_grads.copy()\n",
    "\n",
    "# freq. encoding subgroup_name \n",
    "gradrate_df.subgroup_name = gradrate_df.subgroup_name.apply(lambda x: subgroup_norm[x])\n",
    "gradrate_df.entity_cd = gradrate_df.entity_cd.astype('int64')\n",
    "#gradrate_df.cohort = gradrate_df.cohort.astype('category')\n",
    "gradrate_df.head()"
   ]
  },
  {
   "cell_type": "code",
   "execution_count": 148,
   "id": "1b27b9d8",
   "metadata": {},
   "outputs": [],
   "source": [
    "# cohort_cats =[\"4-Year\", \"5-Year\",\"6-Year\"]\n",
    "#ct_preprocess_pipe = ColumnTransformer([(\"label_enc\", LabelEncoder(),['cohort'])])\n",
    "#lr_pipe = Pipeline([(\"preprocess\", ct_preprocess_pipe),\n",
    "#                    (\"model\", LinearRegression())])\n",
    "#lr_pipe"
   ]
  },
  {
   "cell_type": "code",
   "execution_count": 177,
   "id": "1585d728",
   "metadata": {},
   "outputs": [],
   "source": [
    "X = gradrate_df[['entity_cd','subgroup_name','cohort']]\n",
    "y = gradrate_df.grad_rate\n",
    "\n",
    "# splitting our data \n",
    "X_train, X_test, y_train, y_test = train_test_split(X, y, test_size=0.2)"
   ]
  },
  {
   "cell_type": "code",
   "execution_count": 188,
   "id": "941957d3",
   "metadata": {},
   "outputs": [],
   "source": [
    "ord_enc = OrdinalEncoder()\n",
    "ord_enc.fit(asarray(X_train['cohort']).reshape(-1,1))\n",
    "X_train['cohort_enc'] = ord_enc.transform(asarray(X_train['cohort']).reshape(-1,1))"
   ]
  },
  {
   "cell_type": "code",
   "execution_count": 190,
   "id": "749a5796",
   "metadata": {},
   "outputs": [
    {
     "data": {
      "text/html": [
       "<div>\n",
       "<style scoped>\n",
       "    .dataframe tbody tr th:only-of-type {\n",
       "        vertical-align: middle;\n",
       "    }\n",
       "\n",
       "    .dataframe tbody tr th {\n",
       "        vertical-align: top;\n",
       "    }\n",
       "\n",
       "    .dataframe thead th {\n",
       "        text-align: right;\n",
       "    }\n",
       "</style>\n",
       "<table border=\"1\" class=\"dataframe\">\n",
       "  <thead>\n",
       "    <tr style=\"text-align: right;\">\n",
       "      <th></th>\n",
       "      <th>entity_cd</th>\n",
       "      <th>subgroup_name</th>\n",
       "      <th>cohort_enc</th>\n",
       "    </tr>\n",
       "  </thead>\n",
       "  <tbody>\n",
       "    <tr>\n",
       "      <th>4331</th>\n",
       "      <td>310500011670</td>\n",
       "      <td>0.128943</td>\n",
       "      <td>1.0</td>\n",
       "    </tr>\n",
       "    <tr>\n",
       "      <th>8462</th>\n",
       "      <td>353100011047</td>\n",
       "      <td>0.268486</td>\n",
       "      <td>0.0</td>\n",
       "    </tr>\n",
       "    <tr>\n",
       "      <th>4324</th>\n",
       "      <td>310500011670</td>\n",
       "      <td>0.268486</td>\n",
       "      <td>2.0</td>\n",
       "    </tr>\n",
       "    <tr>\n",
       "      <th>6936</th>\n",
       "      <td>332000011505</td>\n",
       "      <td>0.128943</td>\n",
       "      <td>2.0</td>\n",
       "    </tr>\n",
       "    <tr>\n",
       "      <th>10915</th>\n",
       "      <td>580905020001</td>\n",
       "      <td>0.158822</td>\n",
       "      <td>1.0</td>\n",
       "    </tr>\n",
       "    <tr>\n",
       "      <th>...</th>\n",
       "      <td>...</td>\n",
       "      <td>...</td>\n",
       "      <td>...</td>\n",
       "    </tr>\n",
       "    <tr>\n",
       "      <th>184</th>\n",
       "      <td>22902040001</td>\n",
       "      <td>0.184026</td>\n",
       "      <td>2.0</td>\n",
       "    </tr>\n",
       "    <tr>\n",
       "      <th>9505</th>\n",
       "      <td>480101060001</td>\n",
       "      <td>0.158822</td>\n",
       "      <td>2.0</td>\n",
       "    </tr>\n",
       "    <tr>\n",
       "      <th>4384</th>\n",
       "      <td>310500860989</td>\n",
       "      <td>0.268486</td>\n",
       "      <td>1.0</td>\n",
       "    </tr>\n",
       "    <tr>\n",
       "      <th>8612</th>\n",
       "      <td>353100011605</td>\n",
       "      <td>0.053831</td>\n",
       "      <td>2.0</td>\n",
       "    </tr>\n",
       "    <tr>\n",
       "      <th>4298</th>\n",
       "      <td>310500011369</td>\n",
       "      <td>0.158822</td>\n",
       "      <td>2.0</td>\n",
       "    </tr>\n",
       "  </tbody>\n",
       "</table>\n",
       "<p>9585 rows × 3 columns</p>\n",
       "</div>"
      ],
      "text/plain": [
       "          entity_cd  subgroup_name  cohort_enc\n",
       "4331   310500011670       0.128943         1.0\n",
       "8462   353100011047       0.268486         0.0\n",
       "4324   310500011670       0.268486         2.0\n",
       "6936   332000011505       0.128943         2.0\n",
       "10915  580905020001       0.158822         1.0\n",
       "...             ...            ...         ...\n",
       "184     22902040001       0.184026         2.0\n",
       "9505   480101060001       0.158822         2.0\n",
       "4384   310500860989       0.268486         1.0\n",
       "8612   353100011605       0.053831         2.0\n",
       "4298   310500011369       0.158822         2.0\n",
       "\n",
       "[9585 rows x 3 columns]"
      ]
     },
     "execution_count": 190,
     "metadata": {},
     "output_type": "execute_result"
    }
   ],
   "source": [
    "X_train = X_train[['entity_cd','subgroup_name','cohort_enc']]\n",
    "X_train"
   ]
  },
  {
   "cell_type": "code",
   "execution_count": 191,
   "id": "568cae42",
   "metadata": {},
   "outputs": [
    {
     "data": {
      "text/html": [
       "<style>#sk-container-id-17 {color: black;background-color: white;}#sk-container-id-17 pre{padding: 0;}#sk-container-id-17 div.sk-toggleable {background-color: white;}#sk-container-id-17 label.sk-toggleable__label {cursor: pointer;display: block;width: 100%;margin-bottom: 0;padding: 0.3em;box-sizing: border-box;text-align: center;}#sk-container-id-17 label.sk-toggleable__label-arrow:before {content: \"▸\";float: left;margin-right: 0.25em;color: #696969;}#sk-container-id-17 label.sk-toggleable__label-arrow:hover:before {color: black;}#sk-container-id-17 div.sk-estimator:hover label.sk-toggleable__label-arrow:before {color: black;}#sk-container-id-17 div.sk-toggleable__content {max-height: 0;max-width: 0;overflow: hidden;text-align: left;background-color: #f0f8ff;}#sk-container-id-17 div.sk-toggleable__content pre {margin: 0.2em;color: black;border-radius: 0.25em;background-color: #f0f8ff;}#sk-container-id-17 input.sk-toggleable__control:checked~div.sk-toggleable__content {max-height: 200px;max-width: 100%;overflow: auto;}#sk-container-id-17 input.sk-toggleable__control:checked~label.sk-toggleable__label-arrow:before {content: \"▾\";}#sk-container-id-17 div.sk-estimator input.sk-toggleable__control:checked~label.sk-toggleable__label {background-color: #d4ebff;}#sk-container-id-17 div.sk-label input.sk-toggleable__control:checked~label.sk-toggleable__label {background-color: #d4ebff;}#sk-container-id-17 input.sk-hidden--visually {border: 0;clip: rect(1px 1px 1px 1px);clip: rect(1px, 1px, 1px, 1px);height: 1px;margin: -1px;overflow: hidden;padding: 0;position: absolute;width: 1px;}#sk-container-id-17 div.sk-estimator {font-family: monospace;background-color: #f0f8ff;border: 1px dotted black;border-radius: 0.25em;box-sizing: border-box;margin-bottom: 0.5em;}#sk-container-id-17 div.sk-estimator:hover {background-color: #d4ebff;}#sk-container-id-17 div.sk-parallel-item::after {content: \"\";width: 100%;border-bottom: 1px solid gray;flex-grow: 1;}#sk-container-id-17 div.sk-label:hover label.sk-toggleable__label {background-color: #d4ebff;}#sk-container-id-17 div.sk-serial::before {content: \"\";position: absolute;border-left: 1px solid gray;box-sizing: border-box;top: 0;bottom: 0;left: 50%;z-index: 0;}#sk-container-id-17 div.sk-serial {display: flex;flex-direction: column;align-items: center;background-color: white;padding-right: 0.2em;padding-left: 0.2em;position: relative;}#sk-container-id-17 div.sk-item {position: relative;z-index: 1;}#sk-container-id-17 div.sk-parallel {display: flex;align-items: stretch;justify-content: center;background-color: white;position: relative;}#sk-container-id-17 div.sk-item::before, #sk-container-id-17 div.sk-parallel-item::before {content: \"\";position: absolute;border-left: 1px solid gray;box-sizing: border-box;top: 0;bottom: 0;left: 50%;z-index: -1;}#sk-container-id-17 div.sk-parallel-item {display: flex;flex-direction: column;z-index: 1;position: relative;background-color: white;}#sk-container-id-17 div.sk-parallel-item:first-child::after {align-self: flex-end;width: 50%;}#sk-container-id-17 div.sk-parallel-item:last-child::after {align-self: flex-start;width: 50%;}#sk-container-id-17 div.sk-parallel-item:only-child::after {width: 0;}#sk-container-id-17 div.sk-dashed-wrapped {border: 1px dashed gray;margin: 0 0.4em 0.5em 0.4em;box-sizing: border-box;padding-bottom: 0.4em;background-color: white;}#sk-container-id-17 div.sk-label label {font-family: monospace;font-weight: bold;display: inline-block;line-height: 1.2em;}#sk-container-id-17 div.sk-label-container {text-align: center;}#sk-container-id-17 div.sk-container {/* jupyter's `normalize.less` sets `[hidden] { display: none; }` but bootstrap.min.css set `[hidden] { display: none !important; }` so we also need the `!important` here to be able to override the default hidden behavior on the sphinx rendered scikit-learn.org. See: https://github.com/scikit-learn/scikit-learn/issues/21755 */display: inline-block !important;position: relative;}#sk-container-id-17 div.sk-text-repr-fallback {display: none;}</style><div id=\"sk-container-id-17\" class=\"sk-top-container\"><div class=\"sk-text-repr-fallback\"><pre>LinearRegression()</pre><b>In a Jupyter environment, please rerun this cell to show the HTML representation or trust the notebook. <br />On GitHub, the HTML representation is unable to render, please try loading this page with nbviewer.org.</b></div><div class=\"sk-container\" hidden><div class=\"sk-item\"><div class=\"sk-estimator sk-toggleable\"><input class=\"sk-toggleable__control sk-hidden--visually\" id=\"sk-estimator-id-45\" type=\"checkbox\" checked><label for=\"sk-estimator-id-45\" class=\"sk-toggleable__label sk-toggleable__label-arrow\">LinearRegression</label><div class=\"sk-toggleable__content\"><pre>LinearRegression()</pre></div></div></div></div></div>"
      ],
      "text/plain": [
       "LinearRegression()"
      ]
     },
     "execution_count": 191,
     "metadata": {},
     "output_type": "execute_result"
    }
   ],
   "source": [
    "lr = LinearRegression()\n",
    "lr.fit(X_train,y_train)"
   ]
  },
  {
   "cell_type": "code",
   "execution_count": 195,
   "id": "5c4fe73d",
   "metadata": {
    "collapsed": true
   },
   "outputs": [
    {
     "ename": "KeyError",
     "evalue": "'cohort'",
     "output_type": "error",
     "traceback": [
      "\u001b[1;31m---------------------------------------------------------------------------\u001b[0m",
      "\u001b[1;31mKeyError\u001b[0m                                  Traceback (most recent call last)",
      "File \u001b[1;32m~\\anaconda3\\envs\\nys-ell-gradrate\\Lib\\site-packages\\pandas\\core\\indexes\\base.py:3802\u001b[0m, in \u001b[0;36mIndex.get_loc\u001b[1;34m(self, key, method, tolerance)\u001b[0m\n\u001b[0;32m   3801\u001b[0m \u001b[38;5;28;01mtry\u001b[39;00m:\n\u001b[1;32m-> 3802\u001b[0m     \u001b[38;5;28;01mreturn\u001b[39;00m \u001b[38;5;28mself\u001b[39m\u001b[38;5;241m.\u001b[39m_engine\u001b[38;5;241m.\u001b[39mget_loc(casted_key)\n\u001b[0;32m   3803\u001b[0m \u001b[38;5;28;01mexcept\u001b[39;00m \u001b[38;5;167;01mKeyError\u001b[39;00m \u001b[38;5;28;01mas\u001b[39;00m err:\n",
      "File \u001b[1;32m~\\anaconda3\\envs\\nys-ell-gradrate\\Lib\\site-packages\\pandas\\_libs\\index.pyx:138\u001b[0m, in \u001b[0;36mpandas._libs.index.IndexEngine.get_loc\u001b[1;34m()\u001b[0m\n",
      "File \u001b[1;32m~\\anaconda3\\envs\\nys-ell-gradrate\\Lib\\site-packages\\pandas\\_libs\\index.pyx:165\u001b[0m, in \u001b[0;36mpandas._libs.index.IndexEngine.get_loc\u001b[1;34m()\u001b[0m\n",
      "File \u001b[1;32mpandas\\_libs\\hashtable_class_helper.pxi:5745\u001b[0m, in \u001b[0;36mpandas._libs.hashtable.PyObjectHashTable.get_item\u001b[1;34m()\u001b[0m\n",
      "File \u001b[1;32mpandas\\_libs\\hashtable_class_helper.pxi:5753\u001b[0m, in \u001b[0;36mpandas._libs.hashtable.PyObjectHashTable.get_item\u001b[1;34m()\u001b[0m\n",
      "\u001b[1;31mKeyError\u001b[0m: 'cohort'",
      "\nThe above exception was the direct cause of the following exception:\n",
      "\u001b[1;31mKeyError\u001b[0m                                  Traceback (most recent call last)",
      "Cell \u001b[1;32mIn[195], line 3\u001b[0m\n\u001b[0;32m      1\u001b[0m \u001b[38;5;66;03m# need to ord encode X_test \u001b[39;00m\n\u001b[0;32m      2\u001b[0m ord_enc \u001b[38;5;241m=\u001b[39m OrdinalEncoder()\n\u001b[1;32m----> 3\u001b[0m ord_enc\u001b[38;5;241m.\u001b[39mfit(asarray(X_test[\u001b[38;5;124m'\u001b[39m\u001b[38;5;124mcohort\u001b[39m\u001b[38;5;124m'\u001b[39m])\u001b[38;5;241m.\u001b[39mreshape(\u001b[38;5;241m-\u001b[39m\u001b[38;5;241m1\u001b[39m,\u001b[38;5;241m1\u001b[39m))\n\u001b[0;32m      4\u001b[0m X_test[\u001b[38;5;124m'\u001b[39m\u001b[38;5;124mcohort_enc\u001b[39m\u001b[38;5;124m'\u001b[39m] \u001b[38;5;241m=\u001b[39m ord_enc\u001b[38;5;241m.\u001b[39mtransform(asarray(X_test[\u001b[38;5;124m'\u001b[39m\u001b[38;5;124mcohort\u001b[39m\u001b[38;5;124m'\u001b[39m])\u001b[38;5;241m.\u001b[39mreshape(\u001b[38;5;241m-\u001b[39m\u001b[38;5;241m1\u001b[39m,\u001b[38;5;241m1\u001b[39m))\n\u001b[0;32m      6\u001b[0m \u001b[38;5;66;03m# cleaning up dataframe \u001b[39;00m\n",
      "File \u001b[1;32m~\\anaconda3\\envs\\nys-ell-gradrate\\Lib\\site-packages\\pandas\\core\\frame.py:3807\u001b[0m, in \u001b[0;36mDataFrame.__getitem__\u001b[1;34m(self, key)\u001b[0m\n\u001b[0;32m   3805\u001b[0m \u001b[38;5;28;01mif\u001b[39;00m \u001b[38;5;28mself\u001b[39m\u001b[38;5;241m.\u001b[39mcolumns\u001b[38;5;241m.\u001b[39mnlevels \u001b[38;5;241m>\u001b[39m \u001b[38;5;241m1\u001b[39m:\n\u001b[0;32m   3806\u001b[0m     \u001b[38;5;28;01mreturn\u001b[39;00m \u001b[38;5;28mself\u001b[39m\u001b[38;5;241m.\u001b[39m_getitem_multilevel(key)\n\u001b[1;32m-> 3807\u001b[0m indexer \u001b[38;5;241m=\u001b[39m \u001b[38;5;28mself\u001b[39m\u001b[38;5;241m.\u001b[39mcolumns\u001b[38;5;241m.\u001b[39mget_loc(key)\n\u001b[0;32m   3808\u001b[0m \u001b[38;5;28;01mif\u001b[39;00m is_integer(indexer):\n\u001b[0;32m   3809\u001b[0m     indexer \u001b[38;5;241m=\u001b[39m [indexer]\n",
      "File \u001b[1;32m~\\anaconda3\\envs\\nys-ell-gradrate\\Lib\\site-packages\\pandas\\core\\indexes\\base.py:3804\u001b[0m, in \u001b[0;36mIndex.get_loc\u001b[1;34m(self, key, method, tolerance)\u001b[0m\n\u001b[0;32m   3802\u001b[0m     \u001b[38;5;28;01mreturn\u001b[39;00m \u001b[38;5;28mself\u001b[39m\u001b[38;5;241m.\u001b[39m_engine\u001b[38;5;241m.\u001b[39mget_loc(casted_key)\n\u001b[0;32m   3803\u001b[0m \u001b[38;5;28;01mexcept\u001b[39;00m \u001b[38;5;167;01mKeyError\u001b[39;00m \u001b[38;5;28;01mas\u001b[39;00m err:\n\u001b[1;32m-> 3804\u001b[0m     \u001b[38;5;28;01mraise\u001b[39;00m \u001b[38;5;167;01mKeyError\u001b[39;00m(key) \u001b[38;5;28;01mfrom\u001b[39;00m \u001b[38;5;21;01merr\u001b[39;00m\n\u001b[0;32m   3805\u001b[0m \u001b[38;5;28;01mexcept\u001b[39;00m \u001b[38;5;167;01mTypeError\u001b[39;00m:\n\u001b[0;32m   3806\u001b[0m     \u001b[38;5;66;03m# If we have a listlike key, _check_indexing_error will raise\u001b[39;00m\n\u001b[0;32m   3807\u001b[0m     \u001b[38;5;66;03m#  InvalidIndexError. Otherwise we fall through and re-raise\u001b[39;00m\n\u001b[0;32m   3808\u001b[0m     \u001b[38;5;66;03m#  the TypeError.\u001b[39;00m\n\u001b[0;32m   3809\u001b[0m     \u001b[38;5;28mself\u001b[39m\u001b[38;5;241m.\u001b[39m_check_indexing_error(key)\n",
      "\u001b[1;31mKeyError\u001b[0m: 'cohort'"
     ]
    }
   ],
   "source": [
    "# need to ord encode X_test \n",
    "ord_enc = OrdinalEncoder()\n",
    "ord_enc.fit(asarray(X_test['cohort']).reshape(-1,1))\n",
    "X_test['cohort_enc'] = ord_enc.transform(asarray(X_test['cohort']).reshape(-1,1))\n",
    "\n",
    "# cleaning up dataframe \n",
    "X_test = X_test[['entity_cd','subgroup_name','cohort_enc']]\n",
    "X_test"
   ]
  },
  {
   "cell_type": "code",
   "execution_count": 201,
   "id": "bb83e6e9",
   "metadata": {},
   "outputs": [
    {
     "data": {
      "text/plain": [
       "11.052251586141708"
      ]
     },
     "execution_count": 201,
     "metadata": {},
     "output_type": "execute_result"
    }
   ],
   "source": [
    "preds = lr.predict(X_test)\n",
    "mean_absolute_error(y_test, preds)"
   ]
  },
  {
   "cell_type": "markdown",
   "id": "254f8a3d",
   "metadata": {},
   "source": [
    "## Linear Mixed Effects Modeling "
   ]
  },
  {
   "cell_type": "code",
   "execution_count": 30,
   "id": "1a6149cf",
   "metadata": {},
   "outputs": [],
   "source": [
    "# splitting data \n",
    "X = cohort_grads\n",
    "\n",
    "X_train, X_test = train_test_split(X, test_size=0.2)"
   ]
  },
  {
   "cell_type": "code",
   "execution_count": 32,
   "id": "af814e0c",
   "metadata": {},
   "outputs": [
    {
     "name": "stderr",
     "output_type": "stream",
     "text": [
      "C:\\Users\\devin\\anaconda3\\envs\\ny-ells-project\\Lib\\site-packages\\statsmodels\\base\\model.py:607: ConvergenceWarning: Maximum Likelihood optimization failed to converge. Check mle_retvals\n",
      "  warnings.warn(\"Maximum Likelihood optimization failed to \"\n",
      "C:\\Users\\devin\\anaconda3\\envs\\ny-ells-project\\Lib\\site-packages\\statsmodels\\regression\\mixed_linear_model.py:2201: ConvergenceWarning: Retrying MixedLM optimization with lbfgs\n",
      "  warnings.warn(\n",
      "C:\\Users\\devin\\anaconda3\\envs\\ny-ells-project\\Lib\\site-packages\\statsmodels\\regression\\mixed_linear_model.py:2262: ConvergenceWarning: The Hessian matrix at the estimated parameter values is not positive definite.\n",
      "  warnings.warn(msg, ConvergenceWarning)\n"
     ]
    }
   ],
   "source": [
    "# linear mixed effect with \n",
    "# structure = \"target variable ~ predictor variable\"\n",
    "cohort_md = smf.mixedlm(\"grad_rate ~ subgroup_name\", X_train, groups= X_train.cohort)\n",
    "cohort_mdf = cohort_md.fit()"
   ]
  },
  {
   "cell_type": "code",
   "execution_count": 34,
   "id": "329382ae",
   "metadata": {},
   "outputs": [
    {
     "name": "stdout",
     "output_type": "stream",
     "text": [
      "                                    Mixed Linear Model Regression Results\n",
      "=============================================================================================================\n",
      "Model:                              MixedLM                  Dependent Variable:                  grad_rate  \n",
      "No. Observations:                   9585                     Method:                              REML       \n",
      "No. Groups:                         3                        Scale:                               182.6093   \n",
      "Min. group size:                    3163                     Log-Likelihood:                      -38554.0173\n",
      "Max. group size:                    3230                     Converged:                           Yes        \n",
      "Mean group size:                    3195.0                                                                   \n",
      "-------------------------------------------------------------------------------------------------------------\n",
      "                                                                  Coef.  Std.Err.   z    P>|z|  [0.025 0.975]\n",
      "-------------------------------------------------------------------------------------------------------------\n",
      "Intercept                                                         83.014    3.127 26.551 0.000  76.886 89.142\n",
      "subgroup_name[T.Asian or Native Hawaiian/Other Pacific Islander]  12.511    2.717  4.604 0.000   7.185 17.836\n",
      "subgroup_name[T.Black or African American]                         2.653    2.678  0.991 0.322  -2.596  7.902\n",
      "subgroup_name[T.Economically Disadvantaged]                        1.968    2.664  0.739 0.460  -3.253  7.189\n",
      "subgroup_name[T.English Language Learner]                        -13.162    2.717 -4.844 0.000 -18.489 -7.836\n",
      "subgroup_name[T.Hispanic or Latino]                                0.939    2.673  0.351 0.725  -4.299  6.178\n",
      "subgroup_name[T.Multiracial]                                       4.765    3.098  1.538 0.124  -1.306 10.837\n",
      "subgroup_name[T.Students with Disabilities]                       -4.688    2.675 -1.753 0.080  -9.931  0.555\n",
      "subgroup_name[T.White]                                            10.514    2.670  3.939 0.000   5.282 15.746\n",
      "Group Var                                                          8.256                                     \n",
      "=============================================================================================================\n",
      "\n"
     ]
    }
   ],
   "source": [
    "print(cohort_mdf.summary())"
   ]
  },
  {
   "cell_type": "markdown",
   "id": "d583b764",
   "metadata": {},
   "source": [
    "## PyMc3 - Bayesian Modeling"
   ]
  },
  {
   "cell_type": "markdown",
   "id": "8c9bb711",
   "metadata": {},
   "source": [
    "Instead of standard OLS regression, where we are trying to understand the influence of, for example, `subgroup_name` on graduation rate, we are interested in knowing whether different schools have different relationships and different baseline `graduation_rates`. "
   ]
  },
  {
   "cell_type": "code",
   "execution_count": 3,
   "id": "36f8e8b7",
   "metadata": {},
   "outputs": [
    {
     "data": {
      "text/html": [
       "<div>\n",
       "<style scoped>\n",
       "    .dataframe tbody tr th:only-of-type {\n",
       "        vertical-align: middle;\n",
       "    }\n",
       "\n",
       "    .dataframe tbody tr th {\n",
       "        vertical-align: top;\n",
       "    }\n",
       "\n",
       "    .dataframe thead th {\n",
       "        text-align: right;\n",
       "    }\n",
       "</style>\n",
       "<table border=\"1\" class=\"dataframe\">\n",
       "  <thead>\n",
       "    <tr style=\"text-align: right;\">\n",
       "      <th></th>\n",
       "      <th>entity_cd</th>\n",
       "      <th>entity_name</th>\n",
       "      <th>year</th>\n",
       "      <th>subgroup_name</th>\n",
       "      <th>grad_rate</th>\n",
       "    </tr>\n",
       "  </thead>\n",
       "  <tbody>\n",
       "    <tr>\n",
       "      <th>0</th>\n",
       "      <td>10100010034</td>\n",
       "      <td>Albany High School</td>\n",
       "      <td>2022</td>\n",
       "      <td>Hispanic or Latino</td>\n",
       "      <td>73.7</td>\n",
       "    </tr>\n",
       "    <tr>\n",
       "      <th>1</th>\n",
       "      <td>10100010034</td>\n",
       "      <td>Albany High School</td>\n",
       "      <td>2022</td>\n",
       "      <td>White</td>\n",
       "      <td>86.9</td>\n",
       "    </tr>\n",
       "    <tr>\n",
       "      <th>2</th>\n",
       "      <td>10100010034</td>\n",
       "      <td>Albany High School</td>\n",
       "      <td>2022</td>\n",
       "      <td>Multiracial</td>\n",
       "      <td>77.4</td>\n",
       "    </tr>\n",
       "    <tr>\n",
       "      <th>3</th>\n",
       "      <td>10100010034</td>\n",
       "      <td>Albany High School</td>\n",
       "      <td>2022</td>\n",
       "      <td>English Language Learner</td>\n",
       "      <td>70.4</td>\n",
       "    </tr>\n",
       "    <tr>\n",
       "      <th>4</th>\n",
       "      <td>10100010034</td>\n",
       "      <td>Albany High School</td>\n",
       "      <td>2022</td>\n",
       "      <td>Economically Disadvantaged</td>\n",
       "      <td>75.5</td>\n",
       "    </tr>\n",
       "    <tr>\n",
       "      <th>...</th>\n",
       "      <td>...</td>\n",
       "      <td>...</td>\n",
       "      <td>...</td>\n",
       "      <td>...</td>\n",
       "      <td>...</td>\n",
       "    </tr>\n",
       "    <tr>\n",
       "      <th>4675</th>\n",
       "      <td>671501040002</td>\n",
       "      <td>Warsaw Senior High School</td>\n",
       "      <td>2022</td>\n",
       "      <td>Economically Disadvantaged</td>\n",
       "      <td>88.1</td>\n",
       "    </tr>\n",
       "    <tr>\n",
       "      <th>4676</th>\n",
       "      <td>680601060001</td>\n",
       "      <td>Penn Yan Academy</td>\n",
       "      <td>2022</td>\n",
       "      <td>White</td>\n",
       "      <td>91.1</td>\n",
       "    </tr>\n",
       "    <tr>\n",
       "      <th>4677</th>\n",
       "      <td>680601060001</td>\n",
       "      <td>Penn Yan Academy</td>\n",
       "      <td>2022</td>\n",
       "      <td>Economically Disadvantaged</td>\n",
       "      <td>88.6</td>\n",
       "    </tr>\n",
       "    <tr>\n",
       "      <th>4678</th>\n",
       "      <td>680801040001</td>\n",
       "      <td>Dundee Junior-Senior High School</td>\n",
       "      <td>2022</td>\n",
       "      <td>White</td>\n",
       "      <td>78.6</td>\n",
       "    </tr>\n",
       "    <tr>\n",
       "      <th>4679</th>\n",
       "      <td>680801040001</td>\n",
       "      <td>Dundee Junior-Senior High School</td>\n",
       "      <td>2022</td>\n",
       "      <td>Economically Disadvantaged</td>\n",
       "      <td>68.8</td>\n",
       "    </tr>\n",
       "  </tbody>\n",
       "</table>\n",
       "<p>4680 rows × 5 columns</p>\n",
       "</div>"
      ],
      "text/plain": [
       "         entity_cd                       entity_name  year  \\\n",
       "0      10100010034                Albany High School  2022   \n",
       "1      10100010034                Albany High School  2022   \n",
       "2      10100010034                Albany High School  2022   \n",
       "3      10100010034                Albany High School  2022   \n",
       "4      10100010034                Albany High School  2022   \n",
       "...            ...                               ...   ...   \n",
       "4675  671501040002         Warsaw Senior High School  2022   \n",
       "4676  680601060001                  Penn Yan Academy  2022   \n",
       "4677  680601060001                  Penn Yan Academy  2022   \n",
       "4678  680801040001  Dundee Junior-Senior High School  2022   \n",
       "4679  680801040001  Dundee Junior-Senior High School  2022   \n",
       "\n",
       "                   subgroup_name  grad_rate  \n",
       "0             Hispanic or Latino       73.7  \n",
       "1                          White       86.9  \n",
       "2                    Multiracial       77.4  \n",
       "3       English Language Learner       70.4  \n",
       "4     Economically Disadvantaged       75.5  \n",
       "...                          ...        ...  \n",
       "4675  Economically Disadvantaged       88.1  \n",
       "4676                       White       91.1  \n",
       "4677  Economically Disadvantaged       88.6  \n",
       "4678                       White       78.6  \n",
       "4679  Economically Disadvantaged       68.8  \n",
       "\n",
       "[4680 rows x 5 columns]"
      ]
     },
     "execution_count": 3,
     "metadata": {},
     "output_type": "execute_result"
    }
   ],
   "source": [
    "pymc_df = pd.read_csv('data/2022_NYS_grad-rate.csv')\n",
    "pymc_df"
   ]
  },
  {
   "cell_type": "code",
   "execution_count": 9,
   "id": "60289fd4",
   "metadata": {},
   "outputs": [],
   "source": [
    "school_idxs, schools = pd.factorize(pymc_df.entity_name)\n",
    "coords = {\n",
    "    \"school\": schools,\n",
    "    \"obs_id\": np.arange(len(school_idxs)),\n",
    "}"
   ]
  },
  {
   "cell_type": "code",
   "execution_count": 10,
   "id": "92fbffde",
   "metadata": {},
   "outputs": [
    {
     "data": {
      "text/plain": [
       "{'school': Index(['Albany High School', 'Green Tech High Charter School',\n",
       "        'Cohoes High School', 'Colonie Central High School',\n",
       "        'Albany Leadership Cs-Girls', 'Berne-Knox-Westerlo Junior-Senior Hs',\n",
       "        'Bethlehem Central Senior High School', 'Ravena-Coeymans-Selkirk Sr Hs',\n",
       "        'Shaker High School', 'Heatly School',\n",
       "        ...\n",
       "        'Barack Obama School For Sj', 'Lakeland High School',\n",
       "        'Walter Panas High School', 'Yorktown High School',\n",
       "        'Attica Senior High School', 'Letchworth Senior High School',\n",
       "        'Perry Junior-Senior High School', 'Warsaw Senior High School',\n",
       "        'Penn Yan Academy', 'Dundee Junior-Senior High School'],\n",
       "       dtype='object', length=1240),\n",
       " 'obs_id': array([   0,    1,    2, ..., 4677, 4678, 4679])}"
      ]
     },
     "execution_count": 10,
     "metadata": {},
     "output_type": "execute_result"
    }
   ],
   "source": [
    "coords"
   ]
  },
  {
   "cell_type": "code",
   "execution_count": 15,
   "id": "ce34baf5",
   "metadata": {},
   "outputs": [
    {
     "ename": "AttributeError",
     "evalue": "'DataFrame' object has no attribute 'floor'",
     "output_type": "error",
     "traceback": [
      "\u001b[1;31m---------------------------------------------------------------------------\u001b[0m",
      "\u001b[1;31mAttributeError\u001b[0m                            Traceback (most recent call last)",
      "Cell \u001b[1;32mIn[15], line 5\u001b[0m\n\u001b[0;32m      2\u001b[0m school_idx \u001b[38;5;241m=\u001b[39m pm\u001b[38;5;241m.\u001b[39mData(\u001b[38;5;124m\"\u001b[39m\u001b[38;5;124mschool_idx\u001b[39m\u001b[38;5;124m\"\u001b[39m, school_idxs, dims\u001b[38;5;241m=\u001b[39m\u001b[38;5;124m\"\u001b[39m\u001b[38;5;124mobs_id\u001b[39m\u001b[38;5;124m\"\u001b[39m)\n\u001b[0;32m      4\u001b[0m \u001b[38;5;66;03m# Independent parameters for each county\u001b[39;00m\n\u001b[1;32m----> 5\u001b[0m floor \u001b[38;5;241m=\u001b[39m pm\u001b[38;5;241m.\u001b[39mData(\u001b[38;5;124m\"\u001b[39m\u001b[38;5;124mfloor\u001b[39m\u001b[38;5;124m\"\u001b[39m, pymc_df\u001b[38;5;241m.\u001b[39mfloor\u001b[38;5;241m.\u001b[39mvalues, dims\u001b[38;5;241m=\u001b[39m\u001b[38;5;124m\"\u001b[39m\u001b[38;5;124mobs_id\u001b[39m\u001b[38;5;124m\"\u001b[39m)\n\u001b[0;32m      7\u001b[0m \u001b[38;5;66;03m# Hyperpriors for group nodes\u001b[39;00m\n\u001b[0;32m      8\u001b[0m mu_a \u001b[38;5;241m=\u001b[39m pm\u001b[38;5;241m.\u001b[39mNormal(\u001b[38;5;124m\"\u001b[39m\u001b[38;5;124mmu_a\u001b[39m\u001b[38;5;124m\"\u001b[39m, mu\u001b[38;5;241m=\u001b[39m\u001b[38;5;241m0.0\u001b[39m, sigma\u001b[38;5;241m=\u001b[39m\u001b[38;5;241m100\u001b[39m)\n",
      "File \u001b[1;32m~\\anaconda3\\envs\\pymc_env\\Lib\\site-packages\\pandas\\core\\generic.py:5989\u001b[0m, in \u001b[0;36mNDFrame.__getattr__\u001b[1;34m(self, name)\u001b[0m\n\u001b[0;32m   5982\u001b[0m \u001b[38;5;28;01mif\u001b[39;00m (\n\u001b[0;32m   5983\u001b[0m     name \u001b[38;5;129;01mnot\u001b[39;00m \u001b[38;5;129;01min\u001b[39;00m \u001b[38;5;28mself\u001b[39m\u001b[38;5;241m.\u001b[39m_internal_names_set\n\u001b[0;32m   5984\u001b[0m     \u001b[38;5;129;01mand\u001b[39;00m name \u001b[38;5;129;01mnot\u001b[39;00m \u001b[38;5;129;01min\u001b[39;00m \u001b[38;5;28mself\u001b[39m\u001b[38;5;241m.\u001b[39m_metadata\n\u001b[0;32m   5985\u001b[0m     \u001b[38;5;129;01mand\u001b[39;00m name \u001b[38;5;129;01mnot\u001b[39;00m \u001b[38;5;129;01min\u001b[39;00m \u001b[38;5;28mself\u001b[39m\u001b[38;5;241m.\u001b[39m_accessors\n\u001b[0;32m   5986\u001b[0m     \u001b[38;5;129;01mand\u001b[39;00m \u001b[38;5;28mself\u001b[39m\u001b[38;5;241m.\u001b[39m_info_axis\u001b[38;5;241m.\u001b[39m_can_hold_identifiers_and_holds_name(name)\n\u001b[0;32m   5987\u001b[0m ):\n\u001b[0;32m   5988\u001b[0m     \u001b[38;5;28;01mreturn\u001b[39;00m \u001b[38;5;28mself\u001b[39m[name]\n\u001b[1;32m-> 5989\u001b[0m \u001b[38;5;28;01mreturn\u001b[39;00m \u001b[38;5;28mobject\u001b[39m\u001b[38;5;241m.\u001b[39m\u001b[38;5;21m__getattribute__\u001b[39m(\u001b[38;5;28mself\u001b[39m, name)\n",
      "\u001b[1;31mAttributeError\u001b[0m: 'DataFrame' object has no attribute 'floor'"
     ]
    }
   ],
   "source": [
    "with pm.Model(coords=coords) as hierarchical_model:\n",
    "    school_idx = pm.Data(\"school_idx\", school_idxs, dims=\"obs_id\")\n",
    "    \n",
    "    # Independent parameters for each county\n",
    "    floor = pm.Data(\"floor\", pymc_df.floor.values, dims=\"obs_id\")\n",
    "    \n",
    "    # Hyperpriors for group nodes\n",
    "    mu_a = pm.Normal(\"mu_a\", mu=0.0, sigma=100)\n",
    "    sigma_a = pm.HalfNormal(\"sigma_a\", 5.0)\n",
    "    mu_b = pm.Normal(\"mu_b\", mu=0.0, sigma=100)\n",
    "    sigma_b = pm.HalfNormal(\"sigma_b\", 5.0)\n",
    "\n",
    "    # Intercept for each county, distributed around group mean mu_a\n",
    "    # Above we just set mu and sd to a fixed value while here we\n",
    "    # plug in a common group distribution for all a and b (which are\n",
    "    # vectors of length n_counties).\n",
    "    \n",
    "    a = pm.Normal(\"a\", mu=mu_a, sigma=sigma_a, dims=\"school\")\n",
    "    # effect difference between basement and floor level\n",
    "    b = pm.Normal(\"b\", mu=mu_b, sigma=sigma_b, dims=\"school\")\n",
    "\n",
    "    # Model error\n",
    "    eps = pm.HalfCauchy(\"eps\", 5.0)\n",
    "\n",
    "    school_est = a[school_idx] + b[school_idx] * data.floor.values\n",
    "\n",
    "    # Data likelihood\n",
    "    radon_like = pm.Normal(\n",
    "        \"school_like\", mu=radon_est, sigma=eps, observed=data.log_radon, dims=\"obs_id\")"
   ]
  },
  {
   "cell_type": "code",
   "execution_count": null,
   "id": "a2dad7c6",
   "metadata": {},
   "outputs": [],
   "source": []
  }
 ],
 "metadata": {
  "kernelspec": {
   "display_name": "Python (nys-ell-grads)",
   "language": "python",
   "name": "nys-ell-gradrate"
  },
  "language_info": {
   "codemirror_mode": {
    "name": "ipython",
    "version": 3
   },
   "file_extension": ".py",
   "mimetype": "text/x-python",
   "name": "python",
   "nbconvert_exporter": "python",
   "pygments_lexer": "ipython3",
   "version": "3.11.4"
  }
 },
 "nbformat": 4,
 "nbformat_minor": 5
}
