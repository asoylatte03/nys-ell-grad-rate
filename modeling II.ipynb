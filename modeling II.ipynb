{
 "cells": [
  {
   "cell_type": "markdown",
   "id": "8d3b79fc",
   "metadata": {},
   "source": [
    "# Modeling II"
   ]
  },
  {
   "cell_type": "code",
   "execution_count": 1,
   "id": "d3c6d57d",
   "metadata": {},
   "outputs": [],
   "source": [
    "# imports \n",
    "import pandas as pd \n",
    "import numpy as np \n",
    "\n",
    "# visualizations\n",
    "import matplotlib.pyplot as plt \n",
    "from matplotlib import style \n",
    "%matplotlib inline \n",
    "import seaborn as sns \n",
    "style.use('fivethirtyeight')\n",
    "\n",
    "# stats\n",
    "import statsmodels.api as sm \n",
    "import statsmodels.formula.api as smf\n",
    "\n",
    "# modeling \n",
    "from sklearn.linear_model import LinearRegression\n",
    "from sklearn.model_selection import train_test_split\n",
    "\n",
    "\n",
    "# evaluation metrics \n",
    "from sklearn.metrics import mean_absolute_error\n",
    "from sklearn.metrics import mean_squared_error\n",
    "\n",
    "# run time \n",
    "from datetime import datetime as dt"
   ]
  },
  {
   "cell_type": "code",
   "execution_count": 11,
   "id": "f357ad57",
   "metadata": {},
   "outputs": [],
   "source": [
    "cohort_grads = pd.read_csv('data/cohort_gradrates_22',dtype={'entity_cd':'str'})"
   ]
  },
  {
   "cell_type": "code",
   "execution_count": 12,
   "id": "35c9c3ae",
   "metadata": {},
   "outputs": [
    {
     "data": {
      "text/html": [
       "<div>\n",
       "<style scoped>\n",
       "    .dataframe tbody tr th:only-of-type {\n",
       "        vertical-align: middle;\n",
       "    }\n",
       "\n",
       "    .dataframe tbody tr th {\n",
       "        vertical-align: top;\n",
       "    }\n",
       "\n",
       "    .dataframe thead th {\n",
       "        text-align: right;\n",
       "    }\n",
       "</style>\n",
       "<table border=\"1\" class=\"dataframe\">\n",
       "  <thead>\n",
       "    <tr style=\"text-align: right;\">\n",
       "      <th></th>\n",
       "      <th>entity_cd</th>\n",
       "      <th>entity_name</th>\n",
       "      <th>year</th>\n",
       "      <th>subgroup_name</th>\n",
       "      <th>cohort</th>\n",
       "      <th>grad_rate</th>\n",
       "    </tr>\n",
       "  </thead>\n",
       "  <tbody>\n",
       "    <tr>\n",
       "      <th>0</th>\n",
       "      <td>010100010034</td>\n",
       "      <td>Albany High School</td>\n",
       "      <td>2022</td>\n",
       "      <td>Hispanic or Latino</td>\n",
       "      <td>6-Year</td>\n",
       "      <td>75.9</td>\n",
       "    </tr>\n",
       "    <tr>\n",
       "      <th>1</th>\n",
       "      <td>010100010034</td>\n",
       "      <td>Albany High School</td>\n",
       "      <td>2022</td>\n",
       "      <td>English Language Learner</td>\n",
       "      <td>4-Year</td>\n",
       "      <td>78.7</td>\n",
       "    </tr>\n",
       "    <tr>\n",
       "      <th>2</th>\n",
       "      <td>010100010034</td>\n",
       "      <td>Albany High School</td>\n",
       "      <td>2022</td>\n",
       "      <td>White</td>\n",
       "      <td>4-Year</td>\n",
       "      <td>86.6</td>\n",
       "    </tr>\n",
       "    <tr>\n",
       "      <th>3</th>\n",
       "      <td>010100010034</td>\n",
       "      <td>Albany High School</td>\n",
       "      <td>2022</td>\n",
       "      <td>White</td>\n",
       "      <td>5-Year</td>\n",
       "      <td>84.1</td>\n",
       "    </tr>\n",
       "    <tr>\n",
       "      <th>4</th>\n",
       "      <td>010100010034</td>\n",
       "      <td>Albany High School</td>\n",
       "      <td>2022</td>\n",
       "      <td>White</td>\n",
       "      <td>6-Year</td>\n",
       "      <td>89.9</td>\n",
       "    </tr>\n",
       "  </tbody>\n",
       "</table>\n",
       "</div>"
      ],
      "text/plain": [
       "      entity_cd         entity_name  year             subgroup_name  cohort  \\\n",
       "0  010100010034  Albany High School  2022        Hispanic or Latino  6-Year   \n",
       "1  010100010034  Albany High School  2022  English Language Learner  4-Year   \n",
       "2  010100010034  Albany High School  2022                     White  4-Year   \n",
       "3  010100010034  Albany High School  2022                     White  5-Year   \n",
       "4  010100010034  Albany High School  2022                     White  6-Year   \n",
       "\n",
       "   grad_rate  \n",
       "0       75.9  \n",
       "1       78.7  \n",
       "2       86.6  \n",
       "3       84.1  \n",
       "4       89.9  "
      ]
     },
     "execution_count": 12,
     "metadata": {},
     "output_type": "execute_result"
    }
   ],
   "source": [
    "cohort_grads.head()"
   ]
  },
  {
   "cell_type": "code",
   "execution_count": 13,
   "id": "ef50f568",
   "metadata": {},
   "outputs": [
    {
     "data": {
      "text/plain": [
       "(11982, 6)"
      ]
     },
     "execution_count": 13,
     "metadata": {},
     "output_type": "execute_result"
    }
   ],
   "source": [
    "cohort_grads.shape"
   ]
  },
  {
   "cell_type": "code",
   "execution_count": 30,
   "id": "1a6149cf",
   "metadata": {},
   "outputs": [],
   "source": [
    "# splitting data \n",
    "X = cohort_grads\n",
    "\n",
    "X_train, X_test = train_test_split(X, test_size=0.2)"
   ]
  },
  {
   "cell_type": "code",
   "execution_count": 32,
   "id": "af814e0c",
   "metadata": {},
   "outputs": [
    {
     "name": "stderr",
     "output_type": "stream",
     "text": [
      "C:\\Users\\devin\\anaconda3\\envs\\ny-ells-project\\Lib\\site-packages\\statsmodels\\base\\model.py:607: ConvergenceWarning: Maximum Likelihood optimization failed to converge. Check mle_retvals\n",
      "  warnings.warn(\"Maximum Likelihood optimization failed to \"\n",
      "C:\\Users\\devin\\anaconda3\\envs\\ny-ells-project\\Lib\\site-packages\\statsmodels\\regression\\mixed_linear_model.py:2201: ConvergenceWarning: Retrying MixedLM optimization with lbfgs\n",
      "  warnings.warn(\n",
      "C:\\Users\\devin\\anaconda3\\envs\\ny-ells-project\\Lib\\site-packages\\statsmodels\\regression\\mixed_linear_model.py:2262: ConvergenceWarning: The Hessian matrix at the estimated parameter values is not positive definite.\n",
      "  warnings.warn(msg, ConvergenceWarning)\n"
     ]
    }
   ],
   "source": [
    "# linear mixed effect with \n",
    "# structure = \"target variable ~ predictor variable\"\n",
    "cohort_md = smf.mixedlm(\"grad_rate ~ subgroup_name\", X_train, groups= X_train.cohort)\n",
    "cohort_mdf = cohort_md.fit()"
   ]
  },
  {
   "cell_type": "code",
   "execution_count": 34,
   "id": "329382ae",
   "metadata": {},
   "outputs": [
    {
     "name": "stdout",
     "output_type": "stream",
     "text": [
      "                                    Mixed Linear Model Regression Results\n",
      "=============================================================================================================\n",
      "Model:                              MixedLM                  Dependent Variable:                  grad_rate  \n",
      "No. Observations:                   9585                     Method:                              REML       \n",
      "No. Groups:                         3                        Scale:                               182.6093   \n",
      "Min. group size:                    3163                     Log-Likelihood:                      -38554.0173\n",
      "Max. group size:                    3230                     Converged:                           Yes        \n",
      "Mean group size:                    3195.0                                                                   \n",
      "-------------------------------------------------------------------------------------------------------------\n",
      "                                                                  Coef.  Std.Err.   z    P>|z|  [0.025 0.975]\n",
      "-------------------------------------------------------------------------------------------------------------\n",
      "Intercept                                                         83.014    3.127 26.551 0.000  76.886 89.142\n",
      "subgroup_name[T.Asian or Native Hawaiian/Other Pacific Islander]  12.511    2.717  4.604 0.000   7.185 17.836\n",
      "subgroup_name[T.Black or African American]                         2.653    2.678  0.991 0.322  -2.596  7.902\n",
      "subgroup_name[T.Economically Disadvantaged]                        1.968    2.664  0.739 0.460  -3.253  7.189\n",
      "subgroup_name[T.English Language Learner]                        -13.162    2.717 -4.844 0.000 -18.489 -7.836\n",
      "subgroup_name[T.Hispanic or Latino]                                0.939    2.673  0.351 0.725  -4.299  6.178\n",
      "subgroup_name[T.Multiracial]                                       4.765    3.098  1.538 0.124  -1.306 10.837\n",
      "subgroup_name[T.Students with Disabilities]                       -4.688    2.675 -1.753 0.080  -9.931  0.555\n",
      "subgroup_name[T.White]                                            10.514    2.670  3.939 0.000   5.282 15.746\n",
      "Group Var                                                          8.256                                     \n",
      "=============================================================================================================\n",
      "\n"
     ]
    }
   ],
   "source": [
    "print(cohort_mdf.summary())"
   ]
  },
  {
   "cell_type": "code",
   "execution_count": null,
   "id": "99ec2968",
   "metadata": {},
   "outputs": [],
   "source": []
  }
 ],
 "metadata": {
  "kernelspec": {
   "display_name": "Python (nys-ells-proj)",
   "language": "python",
   "name": "ny-ells-project"
  },
  "language_info": {
   "codemirror_mode": {
    "name": "ipython",
    "version": 3
   },
   "file_extension": ".py",
   "mimetype": "text/x-python",
   "name": "python",
   "nbconvert_exporter": "python",
   "pygments_lexer": "ipython3",
   "version": "3.11.4"
  }
 },
 "nbformat": 4,
 "nbformat_minor": 5
}
